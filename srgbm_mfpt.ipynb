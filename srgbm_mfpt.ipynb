{
  "nbformat": 4,
  "nbformat_minor": 0,
  "metadata": {
    "colab": {
      "provenance": [],
      "collapsed_sections": [
        "-YwJlxAfomro"
      ],
      "authorship_tag": "ABX9TyNVcFgApHnSHtTOUZpFI1Km",
      "include_colab_link": true
    },
    "kernelspec": {
      "name": "python3",
      "display_name": "Python 3"
    },
    "language_info": {
      "name": "python"
    },
    "widgets": {
      "application/vnd.jupyter.widget-state+json": {
        "de399c89b0a845f6bbeec7cd46b72890": {
          "model_module": "@jupyter-widgets/controls",
          "model_name": "FileUploadModel",
          "model_module_version": "1.5.0",
          "state": {
            "_counter": 1,
            "_dom_classes": [],
            "_model_module": "@jupyter-widgets/controls",
            "_model_module_version": "1.5.0",
            "_model_name": "FileUploadModel",
            "_view_count": null,
            "_view_module": "@jupyter-widgets/controls",
            "_view_module_version": "1.5.0",
            "_view_name": "FileUploadView",
            "accept": ".xlsx,csv",
            "button_style": "",
            "data": [
              null
            ],
            "description": "Upload Share 1%",
            "description_tooltip": null,
            "disabled": false,
            "error": "",
            "icon": "upload",
            "layout": "IPY_MODEL_a0b8aa7ff0e44f9c86dbf5bc4e6b0bae",
            "metadata": [
              {
                "name": "data_share.xlsx",
                "type": "application/vnd.openxmlformats-officedocument.spreadsheetml.sheet",
                "size": 11852,
                "lastModified": 1666879826738
              }
            ],
            "multiple": false,
            "style": "IPY_MODEL_69f6cf53b36a4e49b75e3b164fe5d7c2"
          }
        },
        "a0b8aa7ff0e44f9c86dbf5bc4e6b0bae": {
          "model_module": "@jupyter-widgets/base",
          "model_name": "LayoutModel",
          "model_module_version": "1.2.0",
          "state": {
            "_model_module": "@jupyter-widgets/base",
            "_model_module_version": "1.2.0",
            "_model_name": "LayoutModel",
            "_view_count": null,
            "_view_module": "@jupyter-widgets/base",
            "_view_module_version": "1.2.0",
            "_view_name": "LayoutView",
            "align_content": null,
            "align_items": null,
            "align_self": null,
            "border": null,
            "bottom": null,
            "display": null,
            "flex": null,
            "flex_flow": null,
            "grid_area": null,
            "grid_auto_columns": null,
            "grid_auto_flow": null,
            "grid_auto_rows": null,
            "grid_column": null,
            "grid_gap": null,
            "grid_row": null,
            "grid_template_areas": null,
            "grid_template_columns": null,
            "grid_template_rows": null,
            "height": null,
            "justify_content": null,
            "justify_items": null,
            "left": null,
            "margin": null,
            "max_height": null,
            "max_width": null,
            "min_height": null,
            "min_width": null,
            "object_fit": null,
            "object_position": null,
            "order": null,
            "overflow": null,
            "overflow_x": null,
            "overflow_y": null,
            "padding": null,
            "right": null,
            "top": null,
            "visibility": null,
            "width": null
          }
        },
        "69f6cf53b36a4e49b75e3b164fe5d7c2": {
          "model_module": "@jupyter-widgets/controls",
          "model_name": "ButtonStyleModel",
          "model_module_version": "1.5.0",
          "state": {
            "_model_module": "@jupyter-widgets/controls",
            "_model_module_version": "1.5.0",
            "_model_name": "ButtonStyleModel",
            "_view_count": null,
            "_view_module": "@jupyter-widgets/base",
            "_view_module_version": "1.2.0",
            "_view_name": "StyleView",
            "button_color": null,
            "font_weight": ""
          }
        },
        "19319784d3a749bba8ca5b6c55dde7db": {
          "model_module": "@jupyter-widgets/controls",
          "model_name": "FileUploadModel",
          "model_module_version": "1.5.0",
          "state": {
            "_counter": 1,
            "_dom_classes": [],
            "_model_module": "@jupyter-widgets/controls",
            "_model_module_version": "1.5.0",
            "_model_name": "FileUploadModel",
            "_view_count": null,
            "_view_module": "@jupyter-widgets/controls",
            "_view_module_version": "1.5.0",
            "_view_name": "FileUploadView",
            "accept": ".xlsx,csv",
            "button_style": "",
            "data": [
              null
            ],
            "description": "Upload Reset rate%",
            "description_tooltip": null,
            "disabled": false,
            "error": "",
            "icon": "upload",
            "layout": "IPY_MODEL_415521d89be3447795ebeb04ea17b4d6",
            "metadata": [
              {
                "name": "rs.xlsx",
                "type": "application/vnd.openxmlformats-officedocument.spreadsheetml.sheet",
                "size": 9776,
                "lastModified": 1666900375524
              }
            ],
            "multiple": false,
            "style": "IPY_MODEL_6392b7eb75f7445d9494cebae90d997e"
          }
        },
        "415521d89be3447795ebeb04ea17b4d6": {
          "model_module": "@jupyter-widgets/base",
          "model_name": "LayoutModel",
          "model_module_version": "1.2.0",
          "state": {
            "_model_module": "@jupyter-widgets/base",
            "_model_module_version": "1.2.0",
            "_model_name": "LayoutModel",
            "_view_count": null,
            "_view_module": "@jupyter-widgets/base",
            "_view_module_version": "1.2.0",
            "_view_name": "LayoutView",
            "align_content": null,
            "align_items": null,
            "align_self": null,
            "border": null,
            "bottom": null,
            "display": null,
            "flex": null,
            "flex_flow": null,
            "grid_area": null,
            "grid_auto_columns": null,
            "grid_auto_flow": null,
            "grid_auto_rows": null,
            "grid_column": null,
            "grid_gap": null,
            "grid_row": null,
            "grid_template_areas": null,
            "grid_template_columns": null,
            "grid_template_rows": null,
            "height": null,
            "justify_content": null,
            "justify_items": null,
            "left": null,
            "margin": null,
            "max_height": null,
            "max_width": null,
            "min_height": null,
            "min_width": null,
            "object_fit": null,
            "object_position": null,
            "order": null,
            "overflow": null,
            "overflow_x": null,
            "overflow_y": null,
            "padding": null,
            "right": null,
            "top": null,
            "visibility": null,
            "width": null
          }
        },
        "6392b7eb75f7445d9494cebae90d997e": {
          "model_module": "@jupyter-widgets/controls",
          "model_name": "ButtonStyleModel",
          "model_module_version": "1.5.0",
          "state": {
            "_model_module": "@jupyter-widgets/controls",
            "_model_module_version": "1.5.0",
            "_model_name": "ButtonStyleModel",
            "_view_count": null,
            "_view_module": "@jupyter-widgets/base",
            "_view_module_version": "1.2.0",
            "_view_name": "StyleView",
            "button_color": null,
            "font_weight": ""
          }
        },
        "3b8c1efe0c9f46a48fa1a85d2bc28eda": {
          "model_module": "@jupyter-widgets/controls",
          "model_name": "ButtonModel",
          "model_module_version": "1.5.0",
          "state": {
            "_dom_classes": [],
            "_model_module": "@jupyter-widgets/controls",
            "_model_module_version": "1.5.0",
            "_model_name": "ButtonModel",
            "_view_count": null,
            "_view_module": "@jupyter-widgets/controls",
            "_view_module_version": "1.5.0",
            "_view_name": "ButtonView",
            "button_style": "",
            "description": "Estimate parameters",
            "disabled": false,
            "icon": "",
            "layout": "IPY_MODEL_442b68e47524489799c72d5f919d8e39",
            "style": "IPY_MODEL_9dcb498372c243829bc55a44d94a54bf",
            "tooltip": ""
          }
        },
        "442b68e47524489799c72d5f919d8e39": {
          "model_module": "@jupyter-widgets/base",
          "model_name": "LayoutModel",
          "model_module_version": "1.2.0",
          "state": {
            "_model_module": "@jupyter-widgets/base",
            "_model_module_version": "1.2.0",
            "_model_name": "LayoutModel",
            "_view_count": null,
            "_view_module": "@jupyter-widgets/base",
            "_view_module_version": "1.2.0",
            "_view_name": "LayoutView",
            "align_content": null,
            "align_items": null,
            "align_self": null,
            "border": null,
            "bottom": null,
            "display": null,
            "flex": null,
            "flex_flow": null,
            "grid_area": null,
            "grid_auto_columns": null,
            "grid_auto_flow": null,
            "grid_auto_rows": null,
            "grid_column": null,
            "grid_gap": null,
            "grid_row": null,
            "grid_template_areas": null,
            "grid_template_columns": null,
            "grid_template_rows": null,
            "height": null,
            "justify_content": null,
            "justify_items": null,
            "left": null,
            "margin": null,
            "max_height": null,
            "max_width": null,
            "min_height": null,
            "min_width": null,
            "object_fit": null,
            "object_position": null,
            "order": null,
            "overflow": null,
            "overflow_x": null,
            "overflow_y": null,
            "padding": null,
            "right": null,
            "top": null,
            "visibility": null,
            "width": null
          }
        },
        "9dcb498372c243829bc55a44d94a54bf": {
          "model_module": "@jupyter-widgets/controls",
          "model_name": "ButtonStyleModel",
          "model_module_version": "1.5.0",
          "state": {
            "_model_module": "@jupyter-widgets/controls",
            "_model_module_version": "1.5.0",
            "_model_name": "ButtonStyleModel",
            "_view_count": null,
            "_view_module": "@jupyter-widgets/base",
            "_view_module_version": "1.2.0",
            "_view_name": "StyleView",
            "button_color": null,
            "font_weight": ""
          }
        },
        "9c927791204b4c56b408a53022ea1673": {
          "model_module": "@jupyter-widgets/controls",
          "model_name": "FloatTextModel",
          "model_module_version": "1.5.0",
          "state": {
            "_dom_classes": [],
            "_model_module": "@jupyter-widgets/controls",
            "_model_module_version": "1.5.0",
            "_model_name": "FloatTextModel",
            "_view_count": null,
            "_view_module": "@jupyter-widgets/controls",
            "_view_module_version": "1.5.0",
            "_view_name": "FloatTextView",
            "continuous_update": false,
            "description": "Starting Income:",
            "description_tooltip": null,
            "disabled": false,
            "layout": "IPY_MODEL_bad99b9dc4b14f59a2b32c28ca79b5d9",
            "step": null,
            "style": "IPY_MODEL_01347ca389e94c8cb89701e70c5841ac",
            "value": 300
          }
        },
        "bad99b9dc4b14f59a2b32c28ca79b5d9": {
          "model_module": "@jupyter-widgets/base",
          "model_name": "LayoutModel",
          "model_module_version": "1.2.0",
          "state": {
            "_model_module": "@jupyter-widgets/base",
            "_model_module_version": "1.2.0",
            "_model_name": "LayoutModel",
            "_view_count": null,
            "_view_module": "@jupyter-widgets/base",
            "_view_module_version": "1.2.0",
            "_view_name": "LayoutView",
            "align_content": null,
            "align_items": null,
            "align_self": null,
            "border": null,
            "bottom": null,
            "display": null,
            "flex": null,
            "flex_flow": null,
            "grid_area": null,
            "grid_auto_columns": null,
            "grid_auto_flow": null,
            "grid_auto_rows": null,
            "grid_column": null,
            "grid_gap": null,
            "grid_row": null,
            "grid_template_areas": null,
            "grid_template_columns": null,
            "grid_template_rows": null,
            "height": null,
            "justify_content": null,
            "justify_items": null,
            "left": null,
            "margin": null,
            "max_height": null,
            "max_width": null,
            "min_height": null,
            "min_width": null,
            "object_fit": null,
            "object_position": null,
            "order": null,
            "overflow": null,
            "overflow_x": null,
            "overflow_y": null,
            "padding": null,
            "right": null,
            "top": null,
            "visibility": null,
            "width": null
          }
        },
        "01347ca389e94c8cb89701e70c5841ac": {
          "model_module": "@jupyter-widgets/controls",
          "model_name": "DescriptionStyleModel",
          "model_module_version": "1.5.0",
          "state": {
            "_model_module": "@jupyter-widgets/controls",
            "_model_module_version": "1.5.0",
            "_model_name": "DescriptionStyleModel",
            "_view_count": null,
            "_view_module": "@jupyter-widgets/base",
            "_view_module_version": "1.2.0",
            "_view_name": "StyleView",
            "description_width": "initial"
          }
        },
        "3c5688a0b8f94929a5abcca74e138d23": {
          "model_module": "@jupyter-widgets/controls",
          "model_name": "FloatTextModel",
          "model_module_version": "1.5.0",
          "state": {
            "_dom_classes": [],
            "_model_module": "@jupyter-widgets/controls",
            "_model_module_version": "1.5.0",
            "_model_name": "FloatTextModel",
            "_view_count": null,
            "_view_module": "@jupyter-widgets/controls",
            "_view_module_version": "1.5.0",
            "_view_name": "FloatTextView",
            "continuous_update": false,
            "description": "Target Income:   ",
            "description_tooltip": null,
            "disabled": false,
            "layout": "IPY_MODEL_8e5b7be661b04893b98c3d0df5ae01cc",
            "step": null,
            "style": "IPY_MODEL_9fe5abfb218f4652b44da33ad92f68ea",
            "value": 5000
          }
        },
        "8e5b7be661b04893b98c3d0df5ae01cc": {
          "model_module": "@jupyter-widgets/base",
          "model_name": "LayoutModel",
          "model_module_version": "1.2.0",
          "state": {
            "_model_module": "@jupyter-widgets/base",
            "_model_module_version": "1.2.0",
            "_model_name": "LayoutModel",
            "_view_count": null,
            "_view_module": "@jupyter-widgets/base",
            "_view_module_version": "1.2.0",
            "_view_name": "LayoutView",
            "align_content": null,
            "align_items": null,
            "align_self": null,
            "border": null,
            "bottom": null,
            "display": null,
            "flex": null,
            "flex_flow": null,
            "grid_area": null,
            "grid_auto_columns": null,
            "grid_auto_flow": null,
            "grid_auto_rows": null,
            "grid_column": null,
            "grid_gap": null,
            "grid_row": null,
            "grid_template_areas": null,
            "grid_template_columns": null,
            "grid_template_rows": null,
            "height": null,
            "justify_content": null,
            "justify_items": null,
            "left": null,
            "margin": null,
            "max_height": null,
            "max_width": null,
            "min_height": null,
            "min_width": null,
            "object_fit": null,
            "object_position": null,
            "order": null,
            "overflow": null,
            "overflow_x": null,
            "overflow_y": null,
            "padding": null,
            "right": null,
            "top": null,
            "visibility": null,
            "width": null
          }
        },
        "9fe5abfb218f4652b44da33ad92f68ea": {
          "model_module": "@jupyter-widgets/controls",
          "model_name": "DescriptionStyleModel",
          "model_module_version": "1.5.0",
          "state": {
            "_model_module": "@jupyter-widgets/controls",
            "_model_module_version": "1.5.0",
            "_model_name": "DescriptionStyleModel",
            "_view_count": null,
            "_view_module": "@jupyter-widgets/base",
            "_view_module_version": "1.2.0",
            "_view_name": "StyleView",
            "description_width": "initial"
          }
        },
        "8a8e5ea003b24880b78457d348319353": {
          "model_module": "@jupyter-widgets/controls",
          "model_name": "FloatTextModel",
          "model_module_version": "1.5.0",
          "state": {
            "_dom_classes": [],
            "_model_module": "@jupyter-widgets/controls",
            "_model_module_version": "1.5.0",
            "_model_name": "FloatTextModel",
            "_view_count": null,
            "_view_module": "@jupyter-widgets/controls",
            "_view_module_version": "1.5.0",
            "_view_name": "FloatTextView",
            "continuous_update": false,
            "description": "Resetting Income:",
            "description_tooltip": null,
            "disabled": false,
            "layout": "IPY_MODEL_57f9c5b14e9c483b82f790ec0991c240",
            "step": null,
            "style": "IPY_MODEL_ad6d690c72df4cdb810d349f765114a2",
            "value": 100
          }
        },
        "57f9c5b14e9c483b82f790ec0991c240": {
          "model_module": "@jupyter-widgets/base",
          "model_name": "LayoutModel",
          "model_module_version": "1.2.0",
          "state": {
            "_model_module": "@jupyter-widgets/base",
            "_model_module_version": "1.2.0",
            "_model_name": "LayoutModel",
            "_view_count": null,
            "_view_module": "@jupyter-widgets/base",
            "_view_module_version": "1.2.0",
            "_view_name": "LayoutView",
            "align_content": null,
            "align_items": null,
            "align_self": null,
            "border": null,
            "bottom": null,
            "display": null,
            "flex": null,
            "flex_flow": null,
            "grid_area": null,
            "grid_auto_columns": null,
            "grid_auto_flow": null,
            "grid_auto_rows": null,
            "grid_column": null,
            "grid_gap": null,
            "grid_row": null,
            "grid_template_areas": null,
            "grid_template_columns": null,
            "grid_template_rows": null,
            "height": null,
            "justify_content": null,
            "justify_items": null,
            "left": null,
            "margin": null,
            "max_height": null,
            "max_width": null,
            "min_height": null,
            "min_width": null,
            "object_fit": null,
            "object_position": null,
            "order": null,
            "overflow": null,
            "overflow_x": null,
            "overflow_y": null,
            "padding": null,
            "right": null,
            "top": null,
            "visibility": null,
            "width": null
          }
        },
        "ad6d690c72df4cdb810d349f765114a2": {
          "model_module": "@jupyter-widgets/controls",
          "model_name": "DescriptionStyleModel",
          "model_module_version": "1.5.0",
          "state": {
            "_model_module": "@jupyter-widgets/controls",
            "_model_module_version": "1.5.0",
            "_model_name": "DescriptionStyleModel",
            "_view_count": null,
            "_view_module": "@jupyter-widgets/base",
            "_view_module_version": "1.2.0",
            "_view_name": "StyleView",
            "description_width": "initial"
          }
        },
        "392ad3b39fae45f4bf0278a5757cf916": {
          "model_module": "@jupyter-widgets/controls",
          "model_name": "ButtonModel",
          "model_module_version": "1.5.0",
          "state": {
            "_dom_classes": [],
            "_model_module": "@jupyter-widgets/controls",
            "_model_module_version": "1.5.0",
            "_model_name": "ButtonModel",
            "_view_count": null,
            "_view_module": "@jupyter-widgets/controls",
            "_view_module_version": "1.5.0",
            "_view_name": "ButtonView",
            "button_style": "",
            "description": "Visualize results",
            "disabled": false,
            "icon": "",
            "layout": "IPY_MODEL_32e4bca122914b3a9cde3756ce6afcab",
            "style": "IPY_MODEL_0bc188649c4442488edcd1d8b6146e71",
            "tooltip": ""
          }
        },
        "32e4bca122914b3a9cde3756ce6afcab": {
          "model_module": "@jupyter-widgets/base",
          "model_name": "LayoutModel",
          "model_module_version": "1.2.0",
          "state": {
            "_model_module": "@jupyter-widgets/base",
            "_model_module_version": "1.2.0",
            "_model_name": "LayoutModel",
            "_view_count": null,
            "_view_module": "@jupyter-widgets/base",
            "_view_module_version": "1.2.0",
            "_view_name": "LayoutView",
            "align_content": null,
            "align_items": null,
            "align_self": null,
            "border": null,
            "bottom": null,
            "display": null,
            "flex": null,
            "flex_flow": null,
            "grid_area": null,
            "grid_auto_columns": null,
            "grid_auto_flow": null,
            "grid_auto_rows": null,
            "grid_column": null,
            "grid_gap": null,
            "grid_row": null,
            "grid_template_areas": null,
            "grid_template_columns": null,
            "grid_template_rows": null,
            "height": null,
            "justify_content": null,
            "justify_items": null,
            "left": null,
            "margin": null,
            "max_height": null,
            "max_width": null,
            "min_height": null,
            "min_width": null,
            "object_fit": null,
            "object_position": null,
            "order": null,
            "overflow": null,
            "overflow_x": null,
            "overflow_y": null,
            "padding": null,
            "right": null,
            "top": null,
            "visibility": null,
            "width": null
          }
        },
        "0bc188649c4442488edcd1d8b6146e71": {
          "model_module": "@jupyter-widgets/controls",
          "model_name": "ButtonStyleModel",
          "model_module_version": "1.5.0",
          "state": {
            "_model_module": "@jupyter-widgets/controls",
            "_model_module_version": "1.5.0",
            "_model_name": "ButtonStyleModel",
            "_view_count": null,
            "_view_module": "@jupyter-widgets/base",
            "_view_module_version": "1.2.0",
            "_view_name": "StyleView",
            "button_color": null,
            "font_weight": ""
          }
        },
        "c4d26b5b68bd4ea0a6ebcf7d7608886c": {
          "model_module": "@jupyter-widgets/controls",
          "model_name": "ButtonModel",
          "model_module_version": "1.5.0",
          "state": {
            "_dom_classes": [],
            "_model_module": "@jupyter-widgets/controls",
            "_model_module_version": "1.5.0",
            "_model_name": "ButtonModel",
            "_view_count": null,
            "_view_module": "@jupyter-widgets/controls",
            "_view_module_version": "1.5.0",
            "_view_name": "ButtonView",
            "button_style": "",
            "description": "Download results",
            "disabled": false,
            "icon": "",
            "layout": "IPY_MODEL_e5fc813342a14aa683167c62de72337c",
            "style": "IPY_MODEL_ea67c28b716943fe9ef543da6c659472",
            "tooltip": ""
          }
        },
        "e5fc813342a14aa683167c62de72337c": {
          "model_module": "@jupyter-widgets/base",
          "model_name": "LayoutModel",
          "model_module_version": "1.2.0",
          "state": {
            "_model_module": "@jupyter-widgets/base",
            "_model_module_version": "1.2.0",
            "_model_name": "LayoutModel",
            "_view_count": null,
            "_view_module": "@jupyter-widgets/base",
            "_view_module_version": "1.2.0",
            "_view_name": "LayoutView",
            "align_content": null,
            "align_items": null,
            "align_self": null,
            "border": null,
            "bottom": null,
            "display": null,
            "flex": null,
            "flex_flow": null,
            "grid_area": null,
            "grid_auto_columns": null,
            "grid_auto_flow": null,
            "grid_auto_rows": null,
            "grid_column": null,
            "grid_gap": null,
            "grid_row": null,
            "grid_template_areas": null,
            "grid_template_columns": null,
            "grid_template_rows": null,
            "height": null,
            "justify_content": null,
            "justify_items": null,
            "left": null,
            "margin": null,
            "max_height": null,
            "max_width": null,
            "min_height": null,
            "min_width": null,
            "object_fit": null,
            "object_position": null,
            "order": null,
            "overflow": null,
            "overflow_x": null,
            "overflow_y": null,
            "padding": null,
            "right": null,
            "top": null,
            "visibility": null,
            "width": null
          }
        },
        "ea67c28b716943fe9ef543da6c659472": {
          "model_module": "@jupyter-widgets/controls",
          "model_name": "ButtonStyleModel",
          "model_module_version": "1.5.0",
          "state": {
            "_model_module": "@jupyter-widgets/controls",
            "_model_module_version": "1.5.0",
            "_model_name": "ButtonStyleModel",
            "_view_count": null,
            "_view_module": "@jupyter-widgets/base",
            "_view_module_version": "1.2.0",
            "_view_name": "StyleView",
            "button_color": null,
            "font_weight": ""
          }
        }
      }
    }
  },
  "cells": [
    {
      "cell_type": "markdown",
      "metadata": {
        "id": "view-in-github",
        "colab_type": "text"
      },
      "source": [
        "<a href=\"https://colab.research.google.com/github/Juuus/srgbm-mfpt/blob/main/srgbm_mfpt.ipynb\" target=\"_parent\"><img src=\"https://colab.research.google.com/assets/colab-badge.svg\" alt=\"Open In Colab\"/></a>"
      ]
    },
    {
      "cell_type": "markdown",
      "source": [
        "# **srGBM-MFPT ESTIMATIONS**\n",
        "\n",
        "How much time does it take for individual workers to improve their income status? This is the bedrock question that lies beneath the existence of the American dream. By employing ideas and techniques from statistical mechanics, we can provide a disaggregated view on a worker's income timeline. Here you can input your own data and calculate estimates for mean-first-passage estimates for the time needed for an individual worker to change their income $x_0$ to a target income $y$.\n",
        "\n",
        " You can choose whether you want to provide the data in csv/xlsx format or input it directly in a table. For more explanations about the data needed for these calculations we refer to [REF TO OUR WORK].\n",
        "\n"
      ],
      "metadata": {
        "id": "eC1Rbsb6nrZC"
      }
    },
    {
      "cell_type": "code",
      "source": [
        "#@title\n",
        "# Import packages\n",
        "import plotly.graph_objects as go\n",
        "import numpy as np\n",
        "import pandas as pd\n",
        "import random\n",
        "import statsmodels.api as sm\n",
        "import ipywidgets as widgets\n",
        "import scipy\n",
        "from scipy.optimize import minimize\n",
        "import scipy.stats as st\n",
        "from scipy.stats import gmean\n",
        "from scipy import signal\n",
        "\n",
        "# Define global variables\n",
        "\n"
      ],
      "metadata": {
        "id": "6m_qUsefujb5",
        "cellView": "form"
      },
      "execution_count": 201,
      "outputs": []
    },
    {
      "cell_type": "markdown",
      "source": [
        "# Importing the data\n",
        "First, we need to calculate the parameters that drive the income in your economy. For this, you will need to provide two datasets:"
      ],
      "metadata": {
        "id": "-YwJlxAfomro"
      }
    },
    {
      "cell_type": "markdown",
      "source": [
        "# Dataset 1.\n",
        "\n",
        "Insert a table as an xlsx/csv document that provides how the share of the income owned by the top 1% has evolved over time. The data should have two columns. The first column should indicate the year, and it should be called 'year'. The second should give the value of the share of the income owned by the top 1% and should be called share. You must include at least two data points. As an example, see the document provided here."
      ],
      "metadata": {
        "id": "JYmeadrqo8WI"
      }
    },
    {
      "cell_type": "code",
      "execution_count": 99,
      "metadata": {
        "colab": {
          "base_uri": "https://localhost:8080/",
          "height": 67,
          "referenced_widgets": [
            "de399c89b0a845f6bbeec7cd46b72890",
            "a0b8aa7ff0e44f9c86dbf5bc4e6b0bae",
            "69f6cf53b36a4e49b75e3b164fe5d7c2"
          ]
        },
        "id": "ligdE5opnRij",
        "outputId": "d8f75ab1-82bc-4376-b049-405b97f93664",
        "cellView": "form"
      },
      "outputs": [
        {
          "output_type": "stream",
          "name": "stdout",
          "text": [
            "rm: cannot remove 'sample_data': Is a directory\n"
          ]
        },
        {
          "output_type": "display_data",
          "data": {
            "text/plain": [
              "FileUpload(value={}, accept='.xlsx,csv', description='Upload Share 1%')"
            ],
            "application/vnd.jupyter.widget-view+json": {
              "version_major": 2,
              "version_minor": 0,
              "model_id": "de399c89b0a845f6bbeec7cd46b72890"
            }
          },
          "metadata": {}
        }
      ],
      "source": [
        "#@title\n",
        " !rm *\n",
        "from google.colab import files\n",
        "upload1 = widgets.FileUpload(multiple = False, description='Upload Share 1%',accept='.xlsx,csv')\n",
        "display(upload1)"
      ]
    },
    {
      "cell_type": "code",
      "source": [
        "#@title\n",
        "filename1 = next(iter(upload1.value))\n",
        "content1 = upload.value[filename1]['content']\n",
        "with open(filename1, 'wb') as f: \n",
        "  f.write(content1)\n",
        "if filename1.endswith('.xlsx'):\n",
        "  data_share = pd.read_excel(filename,sheet_name='Sheet1')\n",
        "elif filename1.endswith('.csv'):  \n",
        "  data_share = pd.read_csv(filename)\n",
        " \n",
        "data_sh = data_share[data_share.columns[1]].values"
      ],
      "metadata": {
        "cellView": "form",
        "id": "KvBudSZfz_WJ"
      },
      "execution_count": 100,
      "outputs": []
    },
    {
      "cell_type": "markdown",
      "source": [
        "# Dataset 2. \n",
        "\n",
        "Insert a table as an xlsx/csv document that provides how the resetting rate has evolved over time. A good approximation for the resetting rate is the share of workers who left/lost their job in a calendar year. The first column of the table should indicate the year, and should be called 'year'. The second should give the value of the resetting rate and should be called 'rate. You must include data for the same years as in Step 1. As an example, see this document [downloads a csv for USA top 1 share]."
      ],
      "metadata": {
        "id": "Gp1IB2JZzHVZ"
      }
    },
    {
      "cell_type": "code",
      "source": [
        "#@title\n",
        "upload2 = widgets.FileUpload(multiple = False, description='Upload Reset rate%',accept='.xlsx,csv')\n",
        "display(upload2)"
      ],
      "metadata": {
        "colab": {
          "base_uri": "https://localhost:8080/",
          "height": 49,
          "referenced_widgets": [
            "19319784d3a749bba8ca5b6c55dde7db",
            "415521d89be3447795ebeb04ea17b4d6",
            "6392b7eb75f7445d9494cebae90d997e"
          ]
        },
        "cellView": "form",
        "id": "OonUJo3SxQTm",
        "outputId": "8f6d2dfe-4b70-4e72-ece9-eeac7163e75c"
      },
      "execution_count": 101,
      "outputs": [
        {
          "output_type": "display_data",
          "data": {
            "text/plain": [
              "FileUpload(value={}, accept='.xlsx,csv', description='Upload Reset rate%')"
            ],
            "application/vnd.jupyter.widget-view+json": {
              "version_major": 2,
              "version_minor": 0,
              "model_id": "19319784d3a749bba8ca5b6c55dde7db"
            }
          },
          "metadata": {}
        }
      ]
    },
    {
      "cell_type": "code",
      "source": [
        "#@title\n",
        "filename2 = next(iter(upload2.value))\n",
        "content2 = upload2.value[filename2]['content']\n",
        "with open(filename2, 'wb') as f: \n",
        "  f.write(content2)\n",
        "if filename2.endswith('.xlsx'):\n",
        "  rs_ = pd.read_excel(filename2,sheet_name='Sheet1')\n",
        "elif filename2.endswith('.csv'):  \n",
        "  rs_ = pd.read_csv(filename2)\n",
        " \n",
        "rs = rs_[rs_.columns[1]].values\n",
        "\n",
        "start_year = min(rs_['year'])\n",
        "end_year = max(rs_['year'])\n",
        "mu0 = 0.06 # initial mu\n",
        "sig0 = np.sqrt(0.02219277) #initial sigma"
      ],
      "metadata": {
        "id": "VtTbhAUlyk5F"
      },
      "execution_count": 102,
      "outputs": []
    },
    {
      "cell_type": "markdown",
      "source": [
        "# Estimating the srGBM parameters\n",
        "Now we are equipped to calculate the income dynamics parameters of your economy. "
      ],
      "metadata": {
        "id": "JQiCiagC4Bws"
      }
    },
    {
      "cell_type": "code",
      "source": [
        "#@title\n",
        "def estimate_srgbm_parameters(iterations):\n",
        "  \n",
        "\n",
        "  \n",
        "  for iteration in range(iterations):\n",
        "    print(\"Percentage completed: \" + str(round(100*(1+iteration)/iterations,2)) + \"%\")   \n",
        "    min_location = []\n",
        "    min_pred = []\n",
        "    min_sh = []\n",
        "    \n",
        "    random.seed(10)\n",
        "    t = len(data_sh)\n",
        "    people = 10000\n",
        "    dt = 1\n",
        "    m = 10\n",
        "    trajs = np.ones([m, m, t+1, people])\n",
        "    for real in range(0,t-1,1):\n",
        "      sh = []\n",
        "      sqerror = []\n",
        "      pred = []\n",
        "    \n",
        "      if real == 0:\n",
        "        trajs[:,0,:] = np.ones([m,t+1,people]) # da se smeni soglasno diskusija so Petar_\n",
        "        mus = np.linspace(mu0,mu0,m)\n",
        "        sigmas = np.linspace(sig0,sig0,m)\n",
        "      else:   \n",
        "        mus = np.linspace(0.001,0.15,m)\n",
        "        sigmas = np.linspace(0.20,0.70,m)\n",
        "        \n",
        "      lista = {}\n",
        "      \n",
        "      for muiter, mu in enumerate(mus):\n",
        "        for siter, sigma in enumerate(sigmas):\n",
        "          choice_ = [[0,1],[1-rs[real+1]*dt, rs[real+1]*dt]]\n",
        "          prob = np.random.choice(a=choice_[0], p=choice_[1], size=people)\n",
        "          noise = np.random.randn(1,people)\n",
        "    \n",
        "          trajs[muiter,siter, real + 1, np.argwhere(prob == 0)] = trajs[muiter,siter, real, np.argwhere(prob == 0)] * (1 + mu * dt + (sigma * np.sqrt(dt)) * noise[0,np.argwhere(prob == 0)])\n",
        "          trajs[muiter,siter, real + 1, np.argwhere(prob == 1)] = np.min(trajs[muiter,siter, 0, :])\n",
        "        \n",
        "          check = trajs[muiter,siter, real + 1, :]\n",
        "          trajs[muiter,siter, real + 1, np.where(check<0)] = np.min(trajs[muiter,siter, 0, :]) #trajs[ri, 0, np.where(check<0)]\n",
        "    \n",
        "          trajs[muiter,siter, real+1, :].sort()\n",
        "        \n",
        "          share = np.sum(trajs[muiter, siter, real+1,:][-100:])/np.sum(trajs[muiter, siter, real+1,:])\n",
        "     \n",
        "          sqerror.append((share-data_sh[real+1])**2)\n",
        "    \n",
        "          sh.append(share)\n",
        "              \n",
        "          lista[muiter,siter] = mu, sigma   \n",
        "              \n",
        "      min_loc = sqerror.index(min(sqerror))\n",
        "      min_location.append(list(lista.values())[min_loc])\n",
        "      min_sh.append(sh[min_loc])\n",
        "    \n",
        "    fitted_mu[:, iteration] = np.array(pd.DataFrame(min_location)[0])\n",
        "    fitted_sigma[:, iteration] = np.array(pd.DataFrame(min_location)[1])\n",
        "    fitted_ddps[:, iteration] = min_sh\n",
        "\n",
        "iterations = 25;\n",
        "fitted_mu = np.ones([len(data_sh)-1, iterations])\n",
        "fitted_sigma = np.ones([len(data_sh)-1, iterations])\n",
        "fitted_ddps = np.ones([len(data_sh)-1, iterations])\n",
        "button = widgets.Button(description=\"Estimate parameters\")\n",
        "display(button)\n",
        "\n",
        "def on_button_clicked(b):\n",
        "    estimate_srgbm_parameters(iterations)\n",
        "\n",
        "\n",
        "button.on_click(on_button_clicked)"
      ],
      "metadata": {
        "colab": {
          "base_uri": "https://localhost:8080/",
          "height": 942,
          "referenced_widgets": [
            "3b8c1efe0c9f46a48fa1a85d2bc28eda",
            "442b68e47524489799c72d5f919d8e39",
            "9dcb498372c243829bc55a44d94a54bf"
          ]
        },
        "id": "Q4EbpSsH4H2T",
        "outputId": "780df64a-73cb-4e4a-9d99-7f17b472c674"
      },
      "execution_count": 119,
      "outputs": [
        {
          "output_type": "display_data",
          "data": {
            "text/plain": [
              "Button(description='Estimate parameters', style=ButtonStyle())"
            ],
            "application/vnd.jupyter.widget-view+json": {
              "version_major": 2,
              "version_minor": 0,
              "model_id": "3b8c1efe0c9f46a48fa1a85d2bc28eda"
            }
          },
          "metadata": {}
        },
        {
          "output_type": "stream",
          "name": "stdout",
          "text": [
            "Percentage completed: 4.0%\n",
            "Percentage completed: 8.0%\n",
            "Percentage completed: 12.0%\n",
            "Percentage completed: 16.0%\n",
            "Percentage completed: 20.0%\n",
            "Percentage completed: 24.0%\n",
            "Percentage completed: 28.0%\n",
            "Percentage completed: 32.0%\n",
            "Percentage completed: 36.0%\n",
            "Percentage completed: 40.0%\n",
            "Percentage completed: 44.0%\n",
            "Percentage completed: 48.0%\n",
            "Percentage completed: 52.0%\n",
            "Percentage completed: 56.0%\n",
            "Percentage completed: 60.0%\n",
            "Percentage completed: 64.0%\n",
            "Percentage completed: 68.0%\n",
            "Percentage completed: 72.0%\n",
            "Percentage completed: 76.0%\n",
            "Percentage completed: 80.0%\n",
            "Percentage completed: 84.0%\n",
            "Percentage completed: 88.0%\n",
            "Percentage completed: 92.0%\n",
            "Percentage completed: 96.0%\n",
            "Percentage completed: 100.0%\n",
            "Percentage completed: 4.0%\n",
            "Percentage completed: 8.0%\n",
            "Percentage completed: 12.0%\n",
            "Percentage completed: 16.0%\n",
            "Percentage completed: 20.0%\n",
            "Percentage completed: 24.0%\n",
            "Percentage completed: 28.0%\n",
            "Percentage completed: 32.0%\n",
            "Percentage completed: 36.0%\n",
            "Percentage completed: 40.0%\n",
            "Percentage completed: 44.0%\n",
            "Percentage completed: 48.0%\n",
            "Percentage completed: 52.0%\n",
            "Percentage completed: 56.0%\n",
            "Percentage completed: 60.0%\n",
            "Percentage completed: 64.0%\n",
            "Percentage completed: 68.0%\n",
            "Percentage completed: 72.0%\n",
            "Percentage completed: 76.0%\n",
            "Percentage completed: 80.0%\n",
            "Percentage completed: 84.0%\n",
            "Percentage completed: 88.0%\n",
            "Percentage completed: 92.0%\n",
            "Percentage completed: 96.0%\n",
            "Percentage completed: 100.0%\n"
          ]
        }
      ]
    },
    {
      "cell_type": "markdown",
      "source": [
        "# Calculate the srGBM MFPT\n",
        "Now that you have calculated the parameters of your economy, you can choose the starting income ($x_0$), target income ($y$), and the value to which incomes are reset ($x_r$), and estimate the srGBM-MFPT. \n",
        "\n",
        "The results are coupled with 95% confidence intervals."
      ],
      "metadata": {
        "id": "XPURQ2RX5M_K"
      }
    },
    {
      "cell_type": "code",
      "source": [
        "#@title\n",
        "layout = widgets.Layout(width='auto', height='40px') #set width and height\n",
        "\n",
        "x0_temp = widgets.FloatText(\n",
        "    value=1000,\n",
        "    description='Starting Income:',\n",
        "    disabled=False,\n",
        "    style= {'description_width': 'initial'}\n",
        ")\n",
        "display(x0_temp)\n",
        "\n",
        "y_temp = widgets.FloatText(\n",
        "    value=10000,\n",
        "    description='Target Income:   ',\n",
        "    disabled=False,\n",
        "    style= {'description_width': 'initial'}\n",
        ")\n",
        "display(y_temp)\n",
        "\n",
        "xr_temp = widgets.FloatText(\n",
        "    value=100,\n",
        "    description='Resetting Income:',\n",
        "    disabled=False,\n",
        "    style= {'description_width': 'initial'}\n",
        ")\n",
        "display(xr_temp)"
      ],
      "metadata": {
        "colab": {
          "base_uri": "https://localhost:8080/",
          "height": 109,
          "referenced_widgets": [
            "9c927791204b4c56b408a53022ea1673",
            "bad99b9dc4b14f59a2b32c28ca79b5d9",
            "01347ca389e94c8cb89701e70c5841ac",
            "3c5688a0b8f94929a5abcca74e138d23",
            "8e5b7be661b04893b98c3d0df5ae01cc",
            "9fe5abfb218f4652b44da33ad92f68ea",
            "8a8e5ea003b24880b78457d348319353",
            "57f9c5b14e9c483b82f790ec0991c240",
            "ad6d690c72df4cdb810d349f765114a2"
          ]
        },
        "id": "MJpIaKitJg-K",
        "outputId": "c9ac11de-60be-41b5-c91e-3746dec73be3"
      },
      "execution_count": 214,
      "outputs": [
        {
          "output_type": "display_data",
          "data": {
            "text/plain": [
              "FloatText(value=1000.0, description='Starting Income:', style=DescriptionStyle(description_width='initial'))"
            ],
            "application/vnd.jupyter.widget-view+json": {
              "version_major": 2,
              "version_minor": 0,
              "model_id": "9c927791204b4c56b408a53022ea1673"
            }
          },
          "metadata": {}
        },
        {
          "output_type": "display_data",
          "data": {
            "text/plain": [
              "FloatText(value=10000.0, description='Target Income:   ', style=DescriptionStyle(description_width='initial'))"
            ],
            "application/vnd.jupyter.widget-view+json": {
              "version_major": 2,
              "version_minor": 0,
              "model_id": "3c5688a0b8f94929a5abcca74e138d23"
            }
          },
          "metadata": {}
        },
        {
          "output_type": "display_data",
          "data": {
            "text/plain": [
              "FloatText(value=100.0, description='Resetting Income:', style=DescriptionStyle(description_width='initial'))"
            ],
            "application/vnd.jupyter.widget-view+json": {
              "version_major": 2,
              "version_minor": 0,
              "model_id": "8a8e5ea003b24880b78457d348319353"
            }
          },
          "metadata": {}
        }
      ]
    },
    {
      "cell_type": "code",
      "source": [
        "#@title\n",
        "\n",
        "xr = xr_temp.value #resetting income\n",
        "x0 = x0_temp.value #initial income\n",
        "ub = y_temp.value #target income\n",
        "start = start_year\n",
        "end = end_year\n",
        "\n",
        "year1 = np.arange(start,end+1,1).reshape(end-start+1,1) \n",
        "#%% Analytic MFPT function\n",
        "\n",
        "mfpt = np.zeros((len(year1),iterations))\n",
        "mean_mfpt = np.zeros((len(year1),1))\n",
        "ub_mfpt = np.zeros((len(year1),1))\n",
        "lb_mfpt = np.zeros((len(year1),1))\n",
        "\n",
        "\n",
        "def mfpt_analytic(r, params):\n",
        "    \n",
        "    mu, sigma, x0, ub, xr = params\n",
        "    \n",
        "    q = (np.sqrt((sigma**2-2*mu)**2 + 8*r*sigma**2) + (sigma**2-2*mu)) / (2*sigma**2)\n",
        "    \n",
        "    Tx0 = (x0/ub)**q\n",
        "    Tr = (xr/ub)**q\n",
        "    \n",
        "    mean_Tr = (1-Tx0) / (r*Tr)\n",
        "    \n",
        "    return mean_Tr\n",
        "# Read the fitted parameters\n",
        "\n",
        "def plot_results():\n",
        "  std_errors = 2\n",
        "\n",
        "\n",
        "\n",
        "  for i in range(0,len(year1)-1):\n",
        "    r_est = rs[i]\n",
        "    for j in range(0,iterations-1):\n",
        "      mu_est = fitted_mu[i,j]\n",
        "      sigma_est = fitted_sigma[i,j]\n",
        "        \n",
        "      params_baseline = np.array([mu_est,sigma_est,x0,ub,xr])\n",
        "      mfpt[i,j] = mfpt_analytic(r_est,params_baseline)\n",
        "\n",
        "  years = rs_['year'].values\n",
        "  mean_mfpt = np.mean(mfpt, axis=1)\n",
        "  confidence_interval = 2 * np.std(mfpt, axis=1)/np.sqrt(iterations)\n",
        "  ub_mfpt = mean_mfpt + confidence_interval\n",
        "  lb_mfpt = mean_mfpt - confidence_interval\n",
        "  mean_mfpt = signal.savgol_filter(mean_mfpt,5,2);\n",
        "  ub_mfpt = signal.savgol_filter(ub_mfpt,5,2);\n",
        "  lb_mfpt = signal.savgol_filter(lb_mfpt,5,2);  \n",
        "  mean_mfpt[np.where(mean_mfpt<=0)] = 0\n",
        "  ub_mfpt[np.where(ub_mfpt<=0)] = 0\n",
        "  lb_mfpt[np.where(lb_mfpt<=0)] = 0\n",
        "\n",
        "  fig = go.Figure([\n",
        "      go.Scatter(\n",
        "          name='Estimate',\n",
        "          x = years,\n",
        "          y= mean_mfpt, \n",
        "          mode='lines+markers',  \n",
        "          line=dict(color='royalblue', width=2),  \n",
        "          marker=dict(size=10,color='royalblue',symbol='circle'),\n",
        "          showlegend=False\n",
        "    ),\n",
        "    go.Scatter(\n",
        "        name='Upper Bound',\n",
        "        x = years,\n",
        "        y = ub_mfpt,\n",
        "        mode='lines',\n",
        "        marker=dict(color=\"#444\"),\n",
        "        line=dict(width=0),\n",
        "        showlegend=False\n",
        "    ),\n",
        "    go.Scatter(\n",
        "        name='Lower Bound',\n",
        "        x = years,\n",
        "        y = lb_mfpt,\n",
        "        marker=dict(color=\"#444\"),\n",
        "        line=dict(width=0),\n",
        "        mode='lines',\n",
        "        fillcolor='rgba(68, 68, 68, 0.3)',\n",
        "        fill='tonexty',\n",
        "        showlegend=False\n",
        "    )\n",
        "  ])\n",
        "  fig.update_layout(\n",
        "    yaxis = dict(title=\"MFPT in (years)\",\n",
        "                 showgrid = True,gridcolor = \"black\", showline = False, showticklabels = True),\n",
        "    xaxis = dict(title=\"Years\",zeroline = True, showline = True,showticklabels = True,tickangle=0, showgrid = True),\n",
        "    hovermode=\"x\",\n",
        "   # paper_bgcolor='rgba(255,255,255,0)',\n",
        "    plot_bgcolor='rgba(255,255,255,0)'\n",
        "  )\n",
        "  fig.update_xaxes(showline=True, linewidth=2, linecolor='black', mirror=True)\n",
        "  fig.update_yaxes(showline=True, linewidth=2, linecolor='black', mirror=True)\n",
        "  fig.show()\n",
        "\n",
        "button2 = widgets.Button(description=\"Visualize results\")\n",
        "display(button2)\n",
        "def on_button_clicked(b):\n",
        "    plot_results()\n",
        "\n",
        "\n",
        "button2.on_click(on_button_clicked)\n",
        "\n",
        "\n",
        "\n"
      ],
      "metadata": {
        "colab": {
          "base_uri": "https://localhost:8080/",
          "height": 574,
          "referenced_widgets": [
            "392ad3b39fae45f4bf0278a5757cf916",
            "32e4bca122914b3a9cde3756ce6afcab",
            "0bc188649c4442488edcd1d8b6146e71"
          ]
        },
        "id": "Qkdw3CDJ6bfo",
        "outputId": "c2d9cb5d-6beb-4d7a-bb68-4bfd324b5076"
      },
      "execution_count": 217,
      "outputs": [
        {
          "output_type": "display_data",
          "data": {
            "text/plain": [
              "Button(description='Visualize results', style=ButtonStyle())"
            ],
            "application/vnd.jupyter.widget-view+json": {
              "version_major": 2,
              "version_minor": 0,
              "model_id": "392ad3b39fae45f4bf0278a5757cf916"
            }
          },
          "metadata": {}
        },
        {
          "output_type": "display_data",
          "data": {
            "text/html": [
              "<html>\n",
              "<head><meta charset=\"utf-8\" /></head>\n",
              "<body>\n",
              "    <div>            <script src=\"https://cdnjs.cloudflare.com/ajax/libs/mathjax/2.7.5/MathJax.js?config=TeX-AMS-MML_SVG\"></script><script type=\"text/javascript\">if (window.MathJax) {MathJax.Hub.Config({SVG: {font: \"STIX-Web\"}});}</script>                <script type=\"text/javascript\">window.PlotlyConfig = {MathJaxConfig: 'local'};</script>\n",
              "        <script src=\"https://cdn.plot.ly/plotly-2.8.3.min.js\"></script>                <div id=\"d59bac83-a22d-400c-91a8-8f811343fdec\" class=\"plotly-graph-div\" style=\"height:525px; width:100%;\"></div>            <script type=\"text/javascript\">                                    window.PLOTLYENV=window.PLOTLYENV || {};                                    if (document.getElementById(\"d59bac83-a22d-400c-91a8-8f811343fdec\")) {                    Plotly.newPlot(                        \"d59bac83-a22d-400c-91a8-8f811343fdec\",                        [{\"line\":{\"color\":\"royalblue\",\"width\":2},\"marker\":{\"color\":\"royalblue\",\"size\":10,\"symbol\":\"circle\"},\"mode\":\"lines+markers\",\"name\":\"Estimate\",\"showlegend\":false,\"x\":[1977,1978,1979,1980,1981,1982,1983,1984,1985,1986,1987,1988,1989,1990,1991,1992,1993,1994,1995,1996,1997,1998,1999,2000,2001,2002,2003,2004,2005,2006,2007,2008,2009,2010,2011,2012,2013,2014,2015],\"y\":[846.4398569098049,4549.901953792601,6323.188055220322,5385.3496235248285,4529.532264308301,3723.556774129512,3031.4303043701098,2546.4642394488974,2140.468466282002,2210.14171833476,2918.978773698802,2226.33487585231,2100.4431822075567,2038.351201463523,1802.7131479860618,1056.9687789070508,2573.9825993991094,4055.2075855543935,4678.354417834206,3892.011452967314,2932.684861417469,2529.9216402667307,2150.0452497293236,972.9355596898214,0.0,24.935199061686305,0.1350167938654927,34.38909710458947,855.2490130257224,2914.012564746253,3596.3192461049584,2594.0157295102254,1503.8060924227161,1890.4400493243452,1754.1933671749214,1281.862471765189,1048.4505388260086,633.5585106855647,173.78917860101296],\"type\":\"scatter\"},{\"line\":{\"width\":0},\"marker\":{\"color\":\"#444\"},\"mode\":\"lines\",\"name\":\"Upper Bound\",\"showlegend\":false,\"x\":[1977,1978,1979,1980,1981,1982,1983,1984,1985,1986,1987,1988,1989,1990,1991,1992,1993,1994,1995,1996,1997,1998,1999,2000,2001,2002,2003,2004,2005,2006,2007,2008,2009,2010,2011,2012,2013,2014,2015],\"y\":[934.923185417966,5173.656026121363,7283.330461865471,6418.052029953409,5564.024513256522,4669.266144944131,4004.1362192817255,3604.2035853157686,3241.9474938290186,3418.844176116005,4280.367137510018,3364.513793887544,3184.2932787165146,3084.0052184886786,2770.997230767901,2076.0463609848407,4262.865072362682,6189.620930825873,6934.955259908654,5855.158363425015,4585.513463407406,4209.594393548784,3597.2198328592895,1654.9558643930245,0.0,11.33298508142122,0.0,267.4649902757001,2002.527206074209,5218.060291356824,6035.6118361524195,4379.991543923615,2849.968023122671,3402.2748357688183,3272.415796747888,2553.462765056408,2342.7148241066307,1501.2868141724853,367.7979808405121],\"type\":\"scatter\"},{\"fill\":\"tonexty\",\"fillcolor\":\"rgba(68, 68, 68, 0.3)\",\"line\":{\"width\":0},\"marker\":{\"color\":\"#444\"},\"mode\":\"lines\",\"name\":\"Lower Bound\",\"showlegend\":false,\"x\":[1977,1978,1979,1980,1981,1982,1983,1984,1985,1986,1987,1988,1989,1990,1991,1992,1993,1994,1995,1996,1997,1998,1999,2000,2001,2002,2003,2004,2005,2006,2007,2008,2009,2010,2011,2012,2013,2014,2015],\"y\":[757.9565284016438,3926.147881463837,5363.045648575172,4352.64721709625,3495.040015360081,2777.8474033148923,2058.7243894584926,1488.724893582026,1038.989438734985,1001.4392605535141,1557.5904098875849,1088.1559578170766,1016.5930856985983,992.6971844383675,834.4290652042223,37.89119682926071,885.1001264355367,1920.794240282914,2421.753575759758,1928.864542509615,1279.8562594275327,850.2488869846773,702.8706665993575,290.91525498661804,0.0,38.537413041951396,78.75771928248665,0.0,0.0,609.9648381356824,1157.026656057497,808.0399150968367,157.64416172276037,378.6052628798719,235.97093760195426,10.262178473969826,0.0,0.0,0.0],\"type\":\"scatter\"}],                        {\"template\":{\"data\":{\"bar\":[{\"error_x\":{\"color\":\"#2a3f5f\"},\"error_y\":{\"color\":\"#2a3f5f\"},\"marker\":{\"line\":{\"color\":\"#E5ECF6\",\"width\":0.5},\"pattern\":{\"fillmode\":\"overlay\",\"size\":10,\"solidity\":0.2}},\"type\":\"bar\"}],\"barpolar\":[{\"marker\":{\"line\":{\"color\":\"#E5ECF6\",\"width\":0.5},\"pattern\":{\"fillmode\":\"overlay\",\"size\":10,\"solidity\":0.2}},\"type\":\"barpolar\"}],\"carpet\":[{\"aaxis\":{\"endlinecolor\":\"#2a3f5f\",\"gridcolor\":\"white\",\"linecolor\":\"white\",\"minorgridcolor\":\"white\",\"startlinecolor\":\"#2a3f5f\"},\"baxis\":{\"endlinecolor\":\"#2a3f5f\",\"gridcolor\":\"white\",\"linecolor\":\"white\",\"minorgridcolor\":\"white\",\"startlinecolor\":\"#2a3f5f\"},\"type\":\"carpet\"}],\"choropleth\":[{\"colorbar\":{\"outlinewidth\":0,\"ticks\":\"\"},\"type\":\"choropleth\"}],\"contour\":[{\"colorbar\":{\"outlinewidth\":0,\"ticks\":\"\"},\"colorscale\":[[0.0,\"#0d0887\"],[0.1111111111111111,\"#46039f\"],[0.2222222222222222,\"#7201a8\"],[0.3333333333333333,\"#9c179e\"],[0.4444444444444444,\"#bd3786\"],[0.5555555555555556,\"#d8576b\"],[0.6666666666666666,\"#ed7953\"],[0.7777777777777778,\"#fb9f3a\"],[0.8888888888888888,\"#fdca26\"],[1.0,\"#f0f921\"]],\"type\":\"contour\"}],\"contourcarpet\":[{\"colorbar\":{\"outlinewidth\":0,\"ticks\":\"\"},\"type\":\"contourcarpet\"}],\"heatmap\":[{\"colorbar\":{\"outlinewidth\":0,\"ticks\":\"\"},\"colorscale\":[[0.0,\"#0d0887\"],[0.1111111111111111,\"#46039f\"],[0.2222222222222222,\"#7201a8\"],[0.3333333333333333,\"#9c179e\"],[0.4444444444444444,\"#bd3786\"],[0.5555555555555556,\"#d8576b\"],[0.6666666666666666,\"#ed7953\"],[0.7777777777777778,\"#fb9f3a\"],[0.8888888888888888,\"#fdca26\"],[1.0,\"#f0f921\"]],\"type\":\"heatmap\"}],\"heatmapgl\":[{\"colorbar\":{\"outlinewidth\":0,\"ticks\":\"\"},\"colorscale\":[[0.0,\"#0d0887\"],[0.1111111111111111,\"#46039f\"],[0.2222222222222222,\"#7201a8\"],[0.3333333333333333,\"#9c179e\"],[0.4444444444444444,\"#bd3786\"],[0.5555555555555556,\"#d8576b\"],[0.6666666666666666,\"#ed7953\"],[0.7777777777777778,\"#fb9f3a\"],[0.8888888888888888,\"#fdca26\"],[1.0,\"#f0f921\"]],\"type\":\"heatmapgl\"}],\"histogram\":[{\"marker\":{\"pattern\":{\"fillmode\":\"overlay\",\"size\":10,\"solidity\":0.2}},\"type\":\"histogram\"}],\"histogram2d\":[{\"colorbar\":{\"outlinewidth\":0,\"ticks\":\"\"},\"colorscale\":[[0.0,\"#0d0887\"],[0.1111111111111111,\"#46039f\"],[0.2222222222222222,\"#7201a8\"],[0.3333333333333333,\"#9c179e\"],[0.4444444444444444,\"#bd3786\"],[0.5555555555555556,\"#d8576b\"],[0.6666666666666666,\"#ed7953\"],[0.7777777777777778,\"#fb9f3a\"],[0.8888888888888888,\"#fdca26\"],[1.0,\"#f0f921\"]],\"type\":\"histogram2d\"}],\"histogram2dcontour\":[{\"colorbar\":{\"outlinewidth\":0,\"ticks\":\"\"},\"colorscale\":[[0.0,\"#0d0887\"],[0.1111111111111111,\"#46039f\"],[0.2222222222222222,\"#7201a8\"],[0.3333333333333333,\"#9c179e\"],[0.4444444444444444,\"#bd3786\"],[0.5555555555555556,\"#d8576b\"],[0.6666666666666666,\"#ed7953\"],[0.7777777777777778,\"#fb9f3a\"],[0.8888888888888888,\"#fdca26\"],[1.0,\"#f0f921\"]],\"type\":\"histogram2dcontour\"}],\"mesh3d\":[{\"colorbar\":{\"outlinewidth\":0,\"ticks\":\"\"},\"type\":\"mesh3d\"}],\"parcoords\":[{\"line\":{\"colorbar\":{\"outlinewidth\":0,\"ticks\":\"\"}},\"type\":\"parcoords\"}],\"pie\":[{\"automargin\":true,\"type\":\"pie\"}],\"scatter\":[{\"marker\":{\"colorbar\":{\"outlinewidth\":0,\"ticks\":\"\"}},\"type\":\"scatter\"}],\"scatter3d\":[{\"line\":{\"colorbar\":{\"outlinewidth\":0,\"ticks\":\"\"}},\"marker\":{\"colorbar\":{\"outlinewidth\":0,\"ticks\":\"\"}},\"type\":\"scatter3d\"}],\"scattercarpet\":[{\"marker\":{\"colorbar\":{\"outlinewidth\":0,\"ticks\":\"\"}},\"type\":\"scattercarpet\"}],\"scattergeo\":[{\"marker\":{\"colorbar\":{\"outlinewidth\":0,\"ticks\":\"\"}},\"type\":\"scattergeo\"}],\"scattergl\":[{\"marker\":{\"colorbar\":{\"outlinewidth\":0,\"ticks\":\"\"}},\"type\":\"scattergl\"}],\"scattermapbox\":[{\"marker\":{\"colorbar\":{\"outlinewidth\":0,\"ticks\":\"\"}},\"type\":\"scattermapbox\"}],\"scatterpolar\":[{\"marker\":{\"colorbar\":{\"outlinewidth\":0,\"ticks\":\"\"}},\"type\":\"scatterpolar\"}],\"scatterpolargl\":[{\"marker\":{\"colorbar\":{\"outlinewidth\":0,\"ticks\":\"\"}},\"type\":\"scatterpolargl\"}],\"scatterternary\":[{\"marker\":{\"colorbar\":{\"outlinewidth\":0,\"ticks\":\"\"}},\"type\":\"scatterternary\"}],\"surface\":[{\"colorbar\":{\"outlinewidth\":0,\"ticks\":\"\"},\"colorscale\":[[0.0,\"#0d0887\"],[0.1111111111111111,\"#46039f\"],[0.2222222222222222,\"#7201a8\"],[0.3333333333333333,\"#9c179e\"],[0.4444444444444444,\"#bd3786\"],[0.5555555555555556,\"#d8576b\"],[0.6666666666666666,\"#ed7953\"],[0.7777777777777778,\"#fb9f3a\"],[0.8888888888888888,\"#fdca26\"],[1.0,\"#f0f921\"]],\"type\":\"surface\"}],\"table\":[{\"cells\":{\"fill\":{\"color\":\"#EBF0F8\"},\"line\":{\"color\":\"white\"}},\"header\":{\"fill\":{\"color\":\"#C8D4E3\"},\"line\":{\"color\":\"white\"}},\"type\":\"table\"}]},\"layout\":{\"annotationdefaults\":{\"arrowcolor\":\"#2a3f5f\",\"arrowhead\":0,\"arrowwidth\":1},\"autotypenumbers\":\"strict\",\"coloraxis\":{\"colorbar\":{\"outlinewidth\":0,\"ticks\":\"\"}},\"colorscale\":{\"diverging\":[[0,\"#8e0152\"],[0.1,\"#c51b7d\"],[0.2,\"#de77ae\"],[0.3,\"#f1b6da\"],[0.4,\"#fde0ef\"],[0.5,\"#f7f7f7\"],[0.6,\"#e6f5d0\"],[0.7,\"#b8e186\"],[0.8,\"#7fbc41\"],[0.9,\"#4d9221\"],[1,\"#276419\"]],\"sequential\":[[0.0,\"#0d0887\"],[0.1111111111111111,\"#46039f\"],[0.2222222222222222,\"#7201a8\"],[0.3333333333333333,\"#9c179e\"],[0.4444444444444444,\"#bd3786\"],[0.5555555555555556,\"#d8576b\"],[0.6666666666666666,\"#ed7953\"],[0.7777777777777778,\"#fb9f3a\"],[0.8888888888888888,\"#fdca26\"],[1.0,\"#f0f921\"]],\"sequentialminus\":[[0.0,\"#0d0887\"],[0.1111111111111111,\"#46039f\"],[0.2222222222222222,\"#7201a8\"],[0.3333333333333333,\"#9c179e\"],[0.4444444444444444,\"#bd3786\"],[0.5555555555555556,\"#d8576b\"],[0.6666666666666666,\"#ed7953\"],[0.7777777777777778,\"#fb9f3a\"],[0.8888888888888888,\"#fdca26\"],[1.0,\"#f0f921\"]]},\"colorway\":[\"#636efa\",\"#EF553B\",\"#00cc96\",\"#ab63fa\",\"#FFA15A\",\"#19d3f3\",\"#FF6692\",\"#B6E880\",\"#FF97FF\",\"#FECB52\"],\"font\":{\"color\":\"#2a3f5f\"},\"geo\":{\"bgcolor\":\"white\",\"lakecolor\":\"white\",\"landcolor\":\"#E5ECF6\",\"showlakes\":true,\"showland\":true,\"subunitcolor\":\"white\"},\"hoverlabel\":{\"align\":\"left\"},\"hovermode\":\"closest\",\"mapbox\":{\"style\":\"light\"},\"paper_bgcolor\":\"white\",\"plot_bgcolor\":\"#E5ECF6\",\"polar\":{\"angularaxis\":{\"gridcolor\":\"white\",\"linecolor\":\"white\",\"ticks\":\"\"},\"bgcolor\":\"#E5ECF6\",\"radialaxis\":{\"gridcolor\":\"white\",\"linecolor\":\"white\",\"ticks\":\"\"}},\"scene\":{\"xaxis\":{\"backgroundcolor\":\"#E5ECF6\",\"gridcolor\":\"white\",\"gridwidth\":2,\"linecolor\":\"white\",\"showbackground\":true,\"ticks\":\"\",\"zerolinecolor\":\"white\"},\"yaxis\":{\"backgroundcolor\":\"#E5ECF6\",\"gridcolor\":\"white\",\"gridwidth\":2,\"linecolor\":\"white\",\"showbackground\":true,\"ticks\":\"\",\"zerolinecolor\":\"white\"},\"zaxis\":{\"backgroundcolor\":\"#E5ECF6\",\"gridcolor\":\"white\",\"gridwidth\":2,\"linecolor\":\"white\",\"showbackground\":true,\"ticks\":\"\",\"zerolinecolor\":\"white\"}},\"shapedefaults\":{\"line\":{\"color\":\"#2a3f5f\"}},\"ternary\":{\"aaxis\":{\"gridcolor\":\"white\",\"linecolor\":\"white\",\"ticks\":\"\"},\"baxis\":{\"gridcolor\":\"white\",\"linecolor\":\"white\",\"ticks\":\"\"},\"bgcolor\":\"#E5ECF6\",\"caxis\":{\"gridcolor\":\"white\",\"linecolor\":\"white\",\"ticks\":\"\"}},\"title\":{\"x\":0.05},\"xaxis\":{\"automargin\":true,\"gridcolor\":\"white\",\"linecolor\":\"white\",\"ticks\":\"\",\"title\":{\"standoff\":15},\"zerolinecolor\":\"white\",\"zerolinewidth\":2},\"yaxis\":{\"automargin\":true,\"gridcolor\":\"white\",\"linecolor\":\"white\",\"ticks\":\"\",\"title\":{\"standoff\":15},\"zerolinecolor\":\"white\",\"zerolinewidth\":2}}},\"yaxis\":{\"title\":{\"text\":\"MFPT in (years)\"},\"showgrid\":true,\"gridcolor\":\"black\",\"showline\":true,\"showticklabels\":true,\"linewidth\":2,\"linecolor\":\"black\",\"mirror\":true},\"xaxis\":{\"title\":{\"text\":\"Years\"},\"zeroline\":true,\"showline\":true,\"showticklabels\":true,\"tickangle\":0,\"showgrid\":true,\"linewidth\":2,\"linecolor\":\"black\",\"mirror\":true},\"hovermode\":\"x\",\"plot_bgcolor\":\"rgba(255,255,255,0)\"},                        {\"responsive\": true}                    ).then(function(){\n",
              "                            \n",
              "var gd = document.getElementById('d59bac83-a22d-400c-91a8-8f811343fdec');\n",
              "var x = new MutationObserver(function (mutations, observer) {{\n",
              "        var display = window.getComputedStyle(gd).display;\n",
              "        if (!display || display === 'none') {{\n",
              "            console.log([gd, 'removed!']);\n",
              "            Plotly.purge(gd);\n",
              "            observer.disconnect();\n",
              "        }}\n",
              "}});\n",
              "\n",
              "// Listen for the removal of the full notebook cells\n",
              "var notebookContainer = gd.closest('#notebook-container');\n",
              "if (notebookContainer) {{\n",
              "    x.observe(notebookContainer, {childList: true});\n",
              "}}\n",
              "\n",
              "// Listen for the clearing of the current output cell\n",
              "var outputEl = gd.closest('.output');\n",
              "if (outputEl) {{\n",
              "    x.observe(outputEl, {childList: true});\n",
              "}}\n",
              "\n",
              "                        })                };                            </script>        </div>\n",
              "</body>\n",
              "</html>"
            ]
          },
          "metadata": {}
        }
      ]
    },
    {
      "cell_type": "markdown",
      "source": [
        "You can download your results in csv format here:"
      ],
      "metadata": {
        "id": "UEVUhCcHN1gk"
      }
    },
    {
      "cell_type": "code",
      "source": [
        "button3 = widgets.Button(description=\"Download results\")\n",
        "display(button3)\n",
        "def on_button_clicked(b):\n",
        "  years = rs_['year'].values\n",
        "  mean_mfpt = np.mean(mfpt, axis=1)\n",
        "  confidence_interval = 2 * np.std(mfpt, axis=1)/np.sqrt(iterations)\n",
        "  ub_mfpt = mean_mfpt + confidence_interval\n",
        "  lb_mfpt = mean_mfpt - confidence_interval\n",
        "  mean_mfpt = signal.savgol_filter(mean_mfpt,5,2);\n",
        "  ub_mfpt = signal.savgol_filter(mean_mfpt,5,2);\n",
        "  lb_mfpt = signal.savgol_filter(mean_mfpt,5,2);\n",
        "  mean_mfpt[np.where(mean_mfpt<=0)] = 0\n",
        "  ub_mfpt[np.where(ub_mfpt<=0)] = 0\n",
        "  lb_mfpt[np.where(lb_mfpt<=0)] = 0\n",
        "\n",
        "\n",
        "  dikt = {\"year\": list(years), \"MFPT\" : list (mean_mfpt), \"MFPT UB\" : list (ub_mfpt), \"MFPT LB\":list (lb_mfpt)}\n",
        "  mfpt_results = pd.DataFrame(dikt)\n",
        "  mfpt_results.to_csv('mfpt_results.csv',index=False)\n",
        "  files.download('mfpt_results.csv')\n",
        "\n",
        "\n",
        "button3.on_click(on_button_clicked)"
      ],
      "metadata": {
        "colab": {
          "base_uri": "https://localhost:8080/",
          "height": 49,
          "referenced_widgets": [
            "c4d26b5b68bd4ea0a6ebcf7d7608886c",
            "e5fc813342a14aa683167c62de72337c",
            "ea67c28b716943fe9ef543da6c659472"
          ]
        },
        "id": "6ZHzYi4UXgrT",
        "outputId": "f2dd23f1-eae0-4c73-b84b-55776c8f7e3b"
      },
      "execution_count": 223,
      "outputs": [
        {
          "output_type": "display_data",
          "data": {
            "text/plain": [
              "Button(description='Download results', style=ButtonStyle())"
            ],
            "application/vnd.jupyter.widget-view+json": {
              "version_major": 2,
              "version_minor": 0,
              "model_id": "c4d26b5b68bd4ea0a6ebcf7d7608886c"
            }
          },
          "metadata": {}
        }
      ]
    }
  ]
}