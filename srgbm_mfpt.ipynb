{
  "nbformat": 4,
  "nbformat_minor": 0,
  "metadata": {
    "colab": {
      "provenance": [],
      "collapsed_sections": [],
      "toc_visible": true
    },
    "kernelspec": {
      "name": "python3",
      "display_name": "Python 3"
    },
    "language_info": {
      "name": "python"
    }
  },
  "cells": [
    {
      "cell_type": "markdown",
      "source": [
        "# **srGBM-MFPT ESTIMATIONS**\n",
        "\n",
        "How much time does it take for individual workers to improve their income status? This is the bedrock question that lies beneath the existence of the American dream. By employing ideas and techniques from statistical mechanics, we can provide a disaggregated view on a worker's income timeline. Here you can explore the time required for a United States worker to improve their current income or input your own data and calculate estimates for other economies.\n",
        "\n",
        "Here you input data and estimate the time to reach a target income in your own economy. You can choose whether you want to provide the data in csv/xlsx format or input it directly in a table. For more explanations about the data needed for these calculations we refer to [REF TO OUR WORK].\n",
        "\n"
      ],
      "metadata": {
        "id": "eC1Rbsb6nrZC"
      }
    },
    {
      "cell_type": "code",
      "source": [
        "import matplotlib.pyplot as plt\n",
        "import numpy as np\n",
        "import pandas as pd\n",
        "import random\n",
        "from scipy.stats import gmean\n",
        "import statsmodels.api as sm\n",
        "from scipy.optimize import minimize\n",
        "import scipy.stats as st"
      ],
      "metadata": {
        "id": "6m_qUsefujb5"
      },
      "execution_count": null,
      "outputs": []
    },
    {
      "cell_type": "markdown",
      "source": [
        "# Importing the data\n",
        "First, we need to calculate the parameters that drive the income in your economy. For this, you will need to provide two types of data:"
      ],
      "metadata": {
        "id": "-YwJlxAfomro"
      }
    },
    {
      "cell_type": "markdown",
      "source": [
        "# Dataset 1.\n",
        "\n",
        "Insert a table as an xlsx/csv document that provides how the share of the income owned by the top 1% has evolved over time. The dataset should be called 'data_share'. The data should have two columns. The first column should indicate the year, and it should be called 'year'. The second should give the value of the share of the income owned by the top 1% and should be called share. You must include at least two data points. As an example, see the document provided here."
      ],
      "metadata": {
        "id": "JYmeadrqo8WI"
      }
    },
    {
      "cell_type": "code",
      "execution_count": null,
      "metadata": {
        "colab": {
          "base_uri": "https://localhost:8080/",
          "height": 38
        },
        "id": "ligdE5opnRij",
        "outputId": "8cf38526-087d-4834-8a37-6701b7147a8d"
      },
      "outputs": [
        {
          "output_type": "display_data",
          "data": {
            "text/plain": [
              "<IPython.core.display.HTML object>"
            ],
            "text/html": [
              "\n",
              "     <input type=\"file\" id=\"files-0dfdca77-43d6-4351-b757-8a39f32fa2b2\" name=\"files[]\" multiple disabled\n",
              "        style=\"border:none\" />\n",
              "     <output id=\"result-0dfdca77-43d6-4351-b757-8a39f32fa2b2\">\n",
              "      Upload widget is only available when the cell has been executed in the\n",
              "      current browser session. Please rerun this cell to enable.\n",
              "      </output>\n",
              "      <script>// Copyright 2017 Google LLC\n",
              "//\n",
              "// Licensed under the Apache License, Version 2.0 (the \"License\");\n",
              "// you may not use this file except in compliance with the License.\n",
              "// You may obtain a copy of the License at\n",
              "//\n",
              "//      http://www.apache.org/licenses/LICENSE-2.0\n",
              "//\n",
              "// Unless required by applicable law or agreed to in writing, software\n",
              "// distributed under the License is distributed on an \"AS IS\" BASIS,\n",
              "// WITHOUT WARRANTIES OR CONDITIONS OF ANY KIND, either express or implied.\n",
              "// See the License for the specific language governing permissions and\n",
              "// limitations under the License.\n",
              "\n",
              "/**\n",
              " * @fileoverview Helpers for google.colab Python module.\n",
              " */\n",
              "(function(scope) {\n",
              "function span(text, styleAttributes = {}) {\n",
              "  const element = document.createElement('span');\n",
              "  element.textContent = text;\n",
              "  for (const key of Object.keys(styleAttributes)) {\n",
              "    element.style[key] = styleAttributes[key];\n",
              "  }\n",
              "  return element;\n",
              "}\n",
              "\n",
              "// Max number of bytes which will be uploaded at a time.\n",
              "const MAX_PAYLOAD_SIZE = 100 * 1024;\n",
              "\n",
              "function _uploadFiles(inputId, outputId) {\n",
              "  const steps = uploadFilesStep(inputId, outputId);\n",
              "  const outputElement = document.getElementById(outputId);\n",
              "  // Cache steps on the outputElement to make it available for the next call\n",
              "  // to uploadFilesContinue from Python.\n",
              "  outputElement.steps = steps;\n",
              "\n",
              "  return _uploadFilesContinue(outputId);\n",
              "}\n",
              "\n",
              "// This is roughly an async generator (not supported in the browser yet),\n",
              "// where there are multiple asynchronous steps and the Python side is going\n",
              "// to poll for completion of each step.\n",
              "// This uses a Promise to block the python side on completion of each step,\n",
              "// then passes the result of the previous step as the input to the next step.\n",
              "function _uploadFilesContinue(outputId) {\n",
              "  const outputElement = document.getElementById(outputId);\n",
              "  const steps = outputElement.steps;\n",
              "\n",
              "  const next = steps.next(outputElement.lastPromiseValue);\n",
              "  return Promise.resolve(next.value.promise).then((value) => {\n",
              "    // Cache the last promise value to make it available to the next\n",
              "    // step of the generator.\n",
              "    outputElement.lastPromiseValue = value;\n",
              "    return next.value.response;\n",
              "  });\n",
              "}\n",
              "\n",
              "/**\n",
              " * Generator function which is called between each async step of the upload\n",
              " * process.\n",
              " * @param {string} inputId Element ID of the input file picker element.\n",
              " * @param {string} outputId Element ID of the output display.\n",
              " * @return {!Iterable<!Object>} Iterable of next steps.\n",
              " */\n",
              "function* uploadFilesStep(inputId, outputId) {\n",
              "  const inputElement = document.getElementById(inputId);\n",
              "  inputElement.disabled = false;\n",
              "\n",
              "  const outputElement = document.getElementById(outputId);\n",
              "  outputElement.innerHTML = '';\n",
              "\n",
              "  const pickedPromise = new Promise((resolve) => {\n",
              "    inputElement.addEventListener('change', (e) => {\n",
              "      resolve(e.target.files);\n",
              "    });\n",
              "  });\n",
              "\n",
              "  const cancel = document.createElement('button');\n",
              "  inputElement.parentElement.appendChild(cancel);\n",
              "  cancel.textContent = 'Cancel upload';\n",
              "  const cancelPromise = new Promise((resolve) => {\n",
              "    cancel.onclick = () => {\n",
              "      resolve(null);\n",
              "    };\n",
              "  });\n",
              "\n",
              "  // Wait for the user to pick the files.\n",
              "  const files = yield {\n",
              "    promise: Promise.race([pickedPromise, cancelPromise]),\n",
              "    response: {\n",
              "      action: 'starting',\n",
              "    }\n",
              "  };\n",
              "\n",
              "  cancel.remove();\n",
              "\n",
              "  // Disable the input element since further picks are not allowed.\n",
              "  inputElement.disabled = true;\n",
              "\n",
              "  if (!files) {\n",
              "    return {\n",
              "      response: {\n",
              "        action: 'complete',\n",
              "      }\n",
              "    };\n",
              "  }\n",
              "\n",
              "  for (const file of files) {\n",
              "    const li = document.createElement('li');\n",
              "    li.append(span(file.name, {fontWeight: 'bold'}));\n",
              "    li.append(span(\n",
              "        `(${file.type || 'n/a'}) - ${file.size} bytes, ` +\n",
              "        `last modified: ${\n",
              "            file.lastModifiedDate ? file.lastModifiedDate.toLocaleDateString() :\n",
              "                                    'n/a'} - `));\n",
              "    const percent = span('0% done');\n",
              "    li.appendChild(percent);\n",
              "\n",
              "    outputElement.appendChild(li);\n",
              "\n",
              "    const fileDataPromise = new Promise((resolve) => {\n",
              "      const reader = new FileReader();\n",
              "      reader.onload = (e) => {\n",
              "        resolve(e.target.result);\n",
              "      };\n",
              "      reader.readAsArrayBuffer(file);\n",
              "    });\n",
              "    // Wait for the data to be ready.\n",
              "    let fileData = yield {\n",
              "      promise: fileDataPromise,\n",
              "      response: {\n",
              "        action: 'continue',\n",
              "      }\n",
              "    };\n",
              "\n",
              "    // Use a chunked sending to avoid message size limits. See b/62115660.\n",
              "    let position = 0;\n",
              "    do {\n",
              "      const length = Math.min(fileData.byteLength - position, MAX_PAYLOAD_SIZE);\n",
              "      const chunk = new Uint8Array(fileData, position, length);\n",
              "      position += length;\n",
              "\n",
              "      const base64 = btoa(String.fromCharCode.apply(null, chunk));\n",
              "      yield {\n",
              "        response: {\n",
              "          action: 'append',\n",
              "          file: file.name,\n",
              "          data: base64,\n",
              "        },\n",
              "      };\n",
              "\n",
              "      let percentDone = fileData.byteLength === 0 ?\n",
              "          100 :\n",
              "          Math.round((position / fileData.byteLength) * 100);\n",
              "      percent.textContent = `${percentDone}% done`;\n",
              "\n",
              "    } while (position < fileData.byteLength);\n",
              "  }\n",
              "\n",
              "  // All done.\n",
              "  yield {\n",
              "    response: {\n",
              "      action: 'complete',\n",
              "    }\n",
              "  };\n",
              "}\n",
              "\n",
              "scope.google = scope.google || {};\n",
              "scope.google.colab = scope.google.colab || {};\n",
              "scope.google.colab._files = {\n",
              "  _uploadFiles,\n",
              "  _uploadFilesContinue,\n",
              "};\n",
              "})(self);\n",
              "</script> "
            ]
          },
          "metadata": {}
        }
      ],
      "source": [
        "from google.colab import files\n",
        "uploaded = files.upload()"
      ]
    },
    {
      "cell_type": "code",
      "source": [
        "data_share = pd.read_excel('data_share.xlsx',sheet_name='Sheet1')"
      ],
      "metadata": {
        "id": "pUfZCA7jxmwn"
      },
      "execution_count": null,
      "outputs": []
    },
    {
      "cell_type": "markdown",
      "source": [
        "# Dataset 2. \n",
        "\n",
        "Insert a table as an xlsx/csv document that provides how the resetting rate has evolved over time. A good approximation for the resetting rate is the share of workers who left/lost their job in a calendar year. The first column of the table should indicate the year, and should be called 'year'. The second should give the value of the resetting rate and should be called 'rate. You must include data for the same years as in Step 1. As an example, see this document [downloads a csv for USA top 1 share]."
      ],
      "metadata": {
        "id": "Gp1IB2JZzHVZ"
      }
    },
    {
      "cell_type": "code",
      "source": [
        "from google.colab import files\n",
        "uploaded = files.upload()"
      ],
      "metadata": {
        "colab": {
          "base_uri": "https://localhost:8080/",
          "height": 73
        },
        "id": "kgj50qT2y1IS",
        "outputId": "8acb4450-746e-4ab7-ae77-6ac449eb1103"
      },
      "execution_count": null,
      "outputs": [
        {
          "output_type": "display_data",
          "data": {
            "text/plain": [
              "<IPython.core.display.HTML object>"
            ],
            "text/html": [
              "\n",
              "     <input type=\"file\" id=\"files-66e53d98-cae7-4680-b486-82ac7c9aab9b\" name=\"files[]\" multiple disabled\n",
              "        style=\"border:none\" />\n",
              "     <output id=\"result-66e53d98-cae7-4680-b486-82ac7c9aab9b\">\n",
              "      Upload widget is only available when the cell has been executed in the\n",
              "      current browser session. Please rerun this cell to enable.\n",
              "      </output>\n",
              "      <script>// Copyright 2017 Google LLC\n",
              "//\n",
              "// Licensed under the Apache License, Version 2.0 (the \"License\");\n",
              "// you may not use this file except in compliance with the License.\n",
              "// You may obtain a copy of the License at\n",
              "//\n",
              "//      http://www.apache.org/licenses/LICENSE-2.0\n",
              "//\n",
              "// Unless required by applicable law or agreed to in writing, software\n",
              "// distributed under the License is distributed on an \"AS IS\" BASIS,\n",
              "// WITHOUT WARRANTIES OR CONDITIONS OF ANY KIND, either express or implied.\n",
              "// See the License for the specific language governing permissions and\n",
              "// limitations under the License.\n",
              "\n",
              "/**\n",
              " * @fileoverview Helpers for google.colab Python module.\n",
              " */\n",
              "(function(scope) {\n",
              "function span(text, styleAttributes = {}) {\n",
              "  const element = document.createElement('span');\n",
              "  element.textContent = text;\n",
              "  for (const key of Object.keys(styleAttributes)) {\n",
              "    element.style[key] = styleAttributes[key];\n",
              "  }\n",
              "  return element;\n",
              "}\n",
              "\n",
              "// Max number of bytes which will be uploaded at a time.\n",
              "const MAX_PAYLOAD_SIZE = 100 * 1024;\n",
              "\n",
              "function _uploadFiles(inputId, outputId) {\n",
              "  const steps = uploadFilesStep(inputId, outputId);\n",
              "  const outputElement = document.getElementById(outputId);\n",
              "  // Cache steps on the outputElement to make it available for the next call\n",
              "  // to uploadFilesContinue from Python.\n",
              "  outputElement.steps = steps;\n",
              "\n",
              "  return _uploadFilesContinue(outputId);\n",
              "}\n",
              "\n",
              "// This is roughly an async generator (not supported in the browser yet),\n",
              "// where there are multiple asynchronous steps and the Python side is going\n",
              "// to poll for completion of each step.\n",
              "// This uses a Promise to block the python side on completion of each step,\n",
              "// then passes the result of the previous step as the input to the next step.\n",
              "function _uploadFilesContinue(outputId) {\n",
              "  const outputElement = document.getElementById(outputId);\n",
              "  const steps = outputElement.steps;\n",
              "\n",
              "  const next = steps.next(outputElement.lastPromiseValue);\n",
              "  return Promise.resolve(next.value.promise).then((value) => {\n",
              "    // Cache the last promise value to make it available to the next\n",
              "    // step of the generator.\n",
              "    outputElement.lastPromiseValue = value;\n",
              "    return next.value.response;\n",
              "  });\n",
              "}\n",
              "\n",
              "/**\n",
              " * Generator function which is called between each async step of the upload\n",
              " * process.\n",
              " * @param {string} inputId Element ID of the input file picker element.\n",
              " * @param {string} outputId Element ID of the output display.\n",
              " * @return {!Iterable<!Object>} Iterable of next steps.\n",
              " */\n",
              "function* uploadFilesStep(inputId, outputId) {\n",
              "  const inputElement = document.getElementById(inputId);\n",
              "  inputElement.disabled = false;\n",
              "\n",
              "  const outputElement = document.getElementById(outputId);\n",
              "  outputElement.innerHTML = '';\n",
              "\n",
              "  const pickedPromise = new Promise((resolve) => {\n",
              "    inputElement.addEventListener('change', (e) => {\n",
              "      resolve(e.target.files);\n",
              "    });\n",
              "  });\n",
              "\n",
              "  const cancel = document.createElement('button');\n",
              "  inputElement.parentElement.appendChild(cancel);\n",
              "  cancel.textContent = 'Cancel upload';\n",
              "  const cancelPromise = new Promise((resolve) => {\n",
              "    cancel.onclick = () => {\n",
              "      resolve(null);\n",
              "    };\n",
              "  });\n",
              "\n",
              "  // Wait for the user to pick the files.\n",
              "  const files = yield {\n",
              "    promise: Promise.race([pickedPromise, cancelPromise]),\n",
              "    response: {\n",
              "      action: 'starting',\n",
              "    }\n",
              "  };\n",
              "\n",
              "  cancel.remove();\n",
              "\n",
              "  // Disable the input element since further picks are not allowed.\n",
              "  inputElement.disabled = true;\n",
              "\n",
              "  if (!files) {\n",
              "    return {\n",
              "      response: {\n",
              "        action: 'complete',\n",
              "      }\n",
              "    };\n",
              "  }\n",
              "\n",
              "  for (const file of files) {\n",
              "    const li = document.createElement('li');\n",
              "    li.append(span(file.name, {fontWeight: 'bold'}));\n",
              "    li.append(span(\n",
              "        `(${file.type || 'n/a'}) - ${file.size} bytes, ` +\n",
              "        `last modified: ${\n",
              "            file.lastModifiedDate ? file.lastModifiedDate.toLocaleDateString() :\n",
              "                                    'n/a'} - `));\n",
              "    const percent = span('0% done');\n",
              "    li.appendChild(percent);\n",
              "\n",
              "    outputElement.appendChild(li);\n",
              "\n",
              "    const fileDataPromise = new Promise((resolve) => {\n",
              "      const reader = new FileReader();\n",
              "      reader.onload = (e) => {\n",
              "        resolve(e.target.result);\n",
              "      };\n",
              "      reader.readAsArrayBuffer(file);\n",
              "    });\n",
              "    // Wait for the data to be ready.\n",
              "    let fileData = yield {\n",
              "      promise: fileDataPromise,\n",
              "      response: {\n",
              "        action: 'continue',\n",
              "      }\n",
              "    };\n",
              "\n",
              "    // Use a chunked sending to avoid message size limits. See b/62115660.\n",
              "    let position = 0;\n",
              "    do {\n",
              "      const length = Math.min(fileData.byteLength - position, MAX_PAYLOAD_SIZE);\n",
              "      const chunk = new Uint8Array(fileData, position, length);\n",
              "      position += length;\n",
              "\n",
              "      const base64 = btoa(String.fromCharCode.apply(null, chunk));\n",
              "      yield {\n",
              "        response: {\n",
              "          action: 'append',\n",
              "          file: file.name,\n",
              "          data: base64,\n",
              "        },\n",
              "      };\n",
              "\n",
              "      let percentDone = fileData.byteLength === 0 ?\n",
              "          100 :\n",
              "          Math.round((position / fileData.byteLength) * 100);\n",
              "      percent.textContent = `${percentDone}% done`;\n",
              "\n",
              "    } while (position < fileData.byteLength);\n",
              "  }\n",
              "\n",
              "  // All done.\n",
              "  yield {\n",
              "    response: {\n",
              "      action: 'complete',\n",
              "    }\n",
              "  };\n",
              "}\n",
              "\n",
              "scope.google = scope.google || {};\n",
              "scope.google.colab = scope.google.colab || {};\n",
              "scope.google.colab._files = {\n",
              "  _uploadFiles,\n",
              "  _uploadFilesContinue,\n",
              "};\n",
              "})(self);\n",
              "</script> "
            ]
          },
          "metadata": {}
        },
        {
          "output_type": "stream",
          "name": "stdout",
          "text": [
            "Saving rs.xlsx to rs.xlsx\n"
          ]
        }
      ]
    },
    {
      "cell_type": "code",
      "source": [
        "rs_ = pd.read_excel('rs.xlsx')"
      ],
      "metadata": {
        "id": "NgmVY98j1dOH"
      },
      "execution_count": null,
      "outputs": []
    },
    {
      "cell_type": "code",
      "source": [
        "# some code to read rs and data_sh"
      ],
      "metadata": {
        "id": "wB_rj-MV3YZt"
      },
      "execution_count": null,
      "outputs": []
    },
    {
      "cell_type": "markdown",
      "source": [
        "# Estimating the srGBM parameters\n",
        "Now we are equipped to calculate the income dynamics parameters of your economy. Clock counting the length of estimation."
      ],
      "metadata": {
        "id": "JQiCiagC4Bws"
      }
    },
    {
      "cell_type": "code",
      "source": [
        "iterations = 25\n",
        "\n",
        "fitted_mu = np.ones([len(data_sh)-1, iterations])\n",
        "fitted_sigma = np.ones([len(data_sh)-1, iterations])\n",
        "fitted_ddps = np.ones([len(data_sh)-1, iterations])\n",
        "\n",
        "for iteration in range(iterations):\n",
        "    print(\"Iteration: \"f\"{iteration}\")   \n",
        "    min_location = []\n",
        "    min_pred = []\n",
        "    min_sh = []\n",
        "    \n",
        "    random.seed(10)\n",
        "    t = len(data_sh)\n",
        "    people = 10000\n",
        "    dt = 1\n",
        "    m = 10\n",
        "    #sigma = np.sqrt(0.02219277)\n",
        "    #sigma = 0.2\n",
        "    trajs = np.ones([m, m, t+1, people])\n",
        "    \n",
        "    for real in range(0,t-1,1):\n",
        "      print(real)\n",
        "    \n",
        "      sh = []\n",
        "      sqerror = []\n",
        "      pred = []\n",
        "    \n",
        "      if real == 0:\n",
        "        trajs[:,0,:] = data_\n",
        "        mus = np.linspace(mu0,mu0,m)\n",
        "        sigmas = np.linspace(sig0,sig0,m)\n",
        "      else:   \n",
        "        mus = np.linspace(0.001,0.15,m)\n",
        "        sigmas = np.linspace(0.20,0.70,m)\n",
        "        \n",
        "      lista = {}\n",
        "      \n",
        "      for muiter, mu in enumerate(mus):\n",
        "    \n",
        "          for siter, sigma in enumerate(sigmas):\n",
        "              \n",
        "              choice_ = [[0,1],[1-rs[real+1]*dt, rs[real+1]*dt]]\n",
        "              prob = np.random.choice(a=choice_[0], p=choice_[1], size=people)\n",
        "              noise = np.random.randn(1,people)\n",
        "    \n",
        "              trajs[muiter,siter, real + 1, np.argwhere(prob == 0)] = trajs[muiter,siter, real, np.argwhere(prob == 0)] * (1 + mu * dt + (sigma * np.sqrt(dt)) * noise[0,np.argwhere(prob == 0)])\n",
        "              trajs[muiter,siter, real + 1, np.argwhere(prob == 1)] = np.min(trajs[muiter,siter, 0, :])\n",
        "        \n",
        "              check = trajs[muiter,siter, real + 1, :]\n",
        "              trajs[muiter,siter, real + 1, np.where(check<0)] = np.min(trajs[muiter,siter, 0, :]) #trajs[ri, 0, np.where(check<0)]\n",
        "    \n",
        "              trajs[muiter,siter, real+1, :].sort()\n",
        "        \n",
        "              share = np.sum(trajs[muiter, siter, real+1,:][-100:])/np.sum(trajs[muiter, siter, real+1,:])\n",
        "    \n",
        "              sqerror.append((share-data_sh[real+1])**2)\n",
        "    \n",
        "              sh.append(share)\n",
        "              \n",
        "              lista[muiter,siter] = mu, sigma   \n",
        "              \n",
        "      min_loc = sqerror.index(min(sqerror))\n",
        "      min_location.append(list(lista.values())[min_loc])\n",
        "      min_sh.append(sh[min_loc])\n",
        "    \n",
        "    fitted_mu[:, iteration] = np.array(pd.DataFrame(min_location)[0])\n",
        "    fitted_sigma[:, iteration] = np.array(pd.DataFrame(min_location)[1])\n",
        "    fitted_ddps[:, iteration] = min_sh"
      ],
      "metadata": {
        "colab": {
          "base_uri": "https://localhost:8080/",
          "height": 236
        },
        "id": "Q4EbpSsH4H2T",
        "outputId": "0266f3c9-9d95-40c2-96d2-333fa3ca5bdb"
      },
      "execution_count": null,
      "outputs": [
        {
          "output_type": "error",
          "ename": "NameError",
          "evalue": "ignored",
          "traceback": [
            "\u001b[0;31m---------------------------------------------------------------------------\u001b[0m",
            "\u001b[0;31mNameError\u001b[0m                                 Traceback (most recent call last)",
            "\u001b[0;32m<ipython-input-9-774d6ca1d83c>\u001b[0m in \u001b[0;36m<module>\u001b[0;34m\u001b[0m\n\u001b[1;32m      1\u001b[0m \u001b[0miterations\u001b[0m \u001b[0;34m=\u001b[0m \u001b[0;36m25\u001b[0m\u001b[0;34m\u001b[0m\u001b[0;34m\u001b[0m\u001b[0m\n\u001b[1;32m      2\u001b[0m \u001b[0;34m\u001b[0m\u001b[0m\n\u001b[0;32m----> 3\u001b[0;31m \u001b[0mfitted_mu\u001b[0m \u001b[0;34m=\u001b[0m \u001b[0mnp\u001b[0m\u001b[0;34m.\u001b[0m\u001b[0mones\u001b[0m\u001b[0;34m(\u001b[0m\u001b[0;34m[\u001b[0m\u001b[0mlen\u001b[0m\u001b[0;34m(\u001b[0m\u001b[0mdata_sh\u001b[0m\u001b[0;34m)\u001b[0m\u001b[0;34m-\u001b[0m\u001b[0;36m1\u001b[0m\u001b[0;34m,\u001b[0m \u001b[0miterations\u001b[0m\u001b[0;34m]\u001b[0m\u001b[0;34m)\u001b[0m\u001b[0;34m\u001b[0m\u001b[0;34m\u001b[0m\u001b[0m\n\u001b[0m\u001b[1;32m      4\u001b[0m \u001b[0mfitted_sigma\u001b[0m \u001b[0;34m=\u001b[0m \u001b[0mnp\u001b[0m\u001b[0;34m.\u001b[0m\u001b[0mones\u001b[0m\u001b[0;34m(\u001b[0m\u001b[0;34m[\u001b[0m\u001b[0mlen\u001b[0m\u001b[0;34m(\u001b[0m\u001b[0mdata_sh\u001b[0m\u001b[0;34m)\u001b[0m\u001b[0;34m-\u001b[0m\u001b[0;36m1\u001b[0m\u001b[0;34m,\u001b[0m \u001b[0miterations\u001b[0m\u001b[0;34m]\u001b[0m\u001b[0;34m)\u001b[0m\u001b[0;34m\u001b[0m\u001b[0;34m\u001b[0m\u001b[0m\n\u001b[1;32m      5\u001b[0m \u001b[0mfitted_ddps\u001b[0m \u001b[0;34m=\u001b[0m \u001b[0mnp\u001b[0m\u001b[0;34m.\u001b[0m\u001b[0mones\u001b[0m\u001b[0;34m(\u001b[0m\u001b[0;34m[\u001b[0m\u001b[0mlen\u001b[0m\u001b[0;34m(\u001b[0m\u001b[0mdata_sh\u001b[0m\u001b[0;34m)\u001b[0m\u001b[0;34m-\u001b[0m\u001b[0;36m1\u001b[0m\u001b[0;34m,\u001b[0m \u001b[0miterations\u001b[0m\u001b[0;34m]\u001b[0m\u001b[0;34m)\u001b[0m\u001b[0;34m\u001b[0m\u001b[0;34m\u001b[0m\u001b[0m\n",
            "\u001b[0;31mNameError\u001b[0m: name 'data_sh' is not defined"
          ]
        }
      ]
    },
    {
      "cell_type": "code",
      "source": [
        "#%% Simple plot, just to check the regimes\n",
        "\n",
        "plt.figure()\n",
        "plt.plot(2*np.mean(fitted_mu,1)+((np.mean(fitted_sigma,1))**2)/2)\n",
        "plt.plot(np.mean(fitted_mu,1))\n",
        "plt.plot(rs)\n",
        "plt.show()"
      ],
      "metadata": {
        "id": "WES37fq-5LqQ"
      },
      "execution_count": null,
      "outputs": []
    },
    {
      "cell_type": "markdown",
      "source": [
        "# Choosing the starting and target income\n",
        "Now that you have calculated the parameters of your economy, you can choose the starting income (x0), target income (y), and the value to which incomes are reset (xr), and estimate the srGBM-MFPT. "
      ],
      "metadata": {
        "id": "XPURQ2RX5M_K"
      }
    },
    {
      "cell_type": "code",
      "source": [
        "xr = 1000 #resetting income\n",
        "x0 = 1000 #initial income\n",
        "ub = 4000 #target income"
      ],
      "metadata": {
        "id": "xBV_FmBg5VtW"
      },
      "execution_count": null,
      "outputs": []
    },
    {
      "cell_type": "code",
      "source": [
        "start = start_year\n",
        "end = end_year\n",
        "\n",
        "year1 = np.arange(start,end+1,1).reshape(end-start+1,1) \n",
        "#%% Analytic MFPT function\n",
        "\n",
        "def mfpt_analytic(r, params):\n",
        "    \n",
        "    mu, sigma, x0, ub, xr = params\n",
        "    \n",
        "    q = (np.sqrt((sigma**2-2*mu)**2 + 8*r*sigma**2) + (sigma**2-2*mu)) / (2*sigma**2)\n",
        "    \n",
        "    Tx0 = (x0/ub)**q\n",
        "    Tr = (xr/ub)**q\n",
        "    \n",
        "    mean_Tr = (1-Tx0) / (r*Tr)\n",
        "    \n",
        "    return mean_Tr\n",
        "#%% Read the fitted parameters\n",
        "\n",
        "mu_top1 = np.mean(fitted_mu, axis=1)\n",
        "mu_top1_stderror = np.std(fitted_mu, axis=1)/np.sqrt(iterations)\n",
        "sigma_top1 = np.mean(fitted_sigma, axis=1)\n",
        "sigma_top1_stderror = np.std(fitted_sigma, axis=1)/np.sqrt(iterations)\n",
        "\n",
        "#%% MFPT from specified initial income and target\n",
        "\n",
        "std_errors = 3\n",
        "mfpt = np.zeros((len(year1),3))\n",
        "\n",
        "\n",
        "for y in range(0,len(year1)-1):\n",
        "    \n",
        "    r_est = rs[y]\n",
        "    mu_est = mu_top1[y]\n",
        "    sigma_est = sigma_top1[y]\n",
        "    \n",
        "    mu_upper = mu_top1[y]+std_errors*mu_top1_stderror[y]\n",
        "    mu_lower = mu_top1[y]-std_errors*mu_top1_stderror[y]\n",
        "    sigma_upper = sigma_top1[y]+std_errors*sigma_top1_stderror[y]\n",
        "    sigma_lower = sigma_top1[y]-std_errors*sigma_top1_stderror[y]\n",
        "         \n",
        "    params_baseline = np.array([mu_est,sigma_est,x0,ub,xr])\n",
        "    mfpt[y,0] = mfpt_analytic(r_est,params_baseline)\n",
        "            \n",
        "    params_upper = np.array([mu_upper,sigma_upper,x0,ub,xr])\n",
        "    mfpt[y,1] = mfpt_analytic(r_est,params_upper)\n",
        "            \n",
        "    params_lower = np.array([mu_lower,sigma_lower,x0,ub,xr])\n",
        "    mfpt[y,2] = mfpt_analytic(r_est,params_lower)\n",
        "\n",
        "#%% Plot MFPT\n"
      ],
      "metadata": {
        "colab": {
          "base_uri": "https://localhost:8080/",
          "height": 236
        },
        "id": "Qkdw3CDJ6bfo",
        "outputId": "fd43f5a4-d079-44c9-b5e5-42111a9b75cc"
      },
      "execution_count": null,
      "outputs": [
        {
          "output_type": "error",
          "ename": "NameError",
          "evalue": "ignored",
          "traceback": [
            "\u001b[0;31m---------------------------------------------------------------------------\u001b[0m",
            "\u001b[0;31mNameError\u001b[0m                                 Traceback (most recent call last)",
            "\u001b[0;32m<ipython-input-10-7c14ff91ffff>\u001b[0m in \u001b[0;36m<module>\u001b[0;34m\u001b[0m\n\u001b[0;32m----> 1\u001b[0;31m \u001b[0mstart\u001b[0m \u001b[0;34m=\u001b[0m \u001b[0mstart_year\u001b[0m\u001b[0;34m\u001b[0m\u001b[0;34m\u001b[0m\u001b[0m\n\u001b[0m\u001b[1;32m      2\u001b[0m \u001b[0mend\u001b[0m \u001b[0;34m=\u001b[0m \u001b[0mend_year\u001b[0m\u001b[0;34m\u001b[0m\u001b[0;34m\u001b[0m\u001b[0m\n\u001b[1;32m      3\u001b[0m \u001b[0;34m\u001b[0m\u001b[0m\n\u001b[1;32m      4\u001b[0m \u001b[0myear1\u001b[0m \u001b[0;34m=\u001b[0m \u001b[0mnp\u001b[0m\u001b[0;34m.\u001b[0m\u001b[0marange\u001b[0m\u001b[0;34m(\u001b[0m\u001b[0mstart\u001b[0m\u001b[0;34m,\u001b[0m\u001b[0mend\u001b[0m\u001b[0;34m+\u001b[0m\u001b[0;36m1\u001b[0m\u001b[0;34m,\u001b[0m\u001b[0;36m1\u001b[0m\u001b[0;34m)\u001b[0m\u001b[0;34m.\u001b[0m\u001b[0mreshape\u001b[0m\u001b[0;34m(\u001b[0m\u001b[0mend\u001b[0m\u001b[0;34m-\u001b[0m\u001b[0mstart\u001b[0m\u001b[0;34m+\u001b[0m\u001b[0;36m1\u001b[0m\u001b[0;34m,\u001b[0m\u001b[0;36m1\u001b[0m\u001b[0;34m)\u001b[0m\u001b[0;34m\u001b[0m\u001b[0;34m\u001b[0m\u001b[0m\n\u001b[1;32m      5\u001b[0m \u001b[0;31m#%% Analytic MFPT function\u001b[0m\u001b[0;34m\u001b[0m\u001b[0;34m\u001b[0m\u001b[0;34m\u001b[0m\u001b[0m\n",
            "\u001b[0;31mNameError\u001b[0m: name 'start_year' is not defined"
          ]
        }
      ]
    },
    {
      "cell_type": "markdown",
      "source": [
        "# Results\n",
        "\n",
        "Finally, you can see the results... DESCRIBE. \n",
        "\n",
        "The intervals for the expected time are calculated using 95% confidence intervals\n",
        "The optimal time is the expected time under policies that minimize the time required for a worker to reach the target income.\n",
        "The optimal resetting rate is the share of workers that change their jobs/working status in a year that leads to the minimum expected time to reach the target income.\n",
        "\n",
        "\n",
        "\n",
        "You can download them in csv format here:"
      ],
      "metadata": {
        "id": "T9DvcNGH6jyF"
      }
    },
    {
      "cell_type": "code",
      "source": [
        "plt.figure()\n",
        "plt.plot(mfpt[:,1])\n",
        "plt.plot(mfpt[:,0])\n",
        "plt.plot(mfpt[:,2])\n",
        "plt.show()"
      ],
      "metadata": {
        "id": "IwUUGPGX7lMr"
      },
      "execution_count": null,
      "outputs": []
    },
    {
      "cell_type": "code",
      "source": [],
      "metadata": {
        "id": "38kuoo7Y7lsi"
      },
      "execution_count": null,
      "outputs": []
    }
  ]
}